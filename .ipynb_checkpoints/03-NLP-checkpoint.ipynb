{
 "cells": [
  {
   "cell_type": "markdown",
   "id": "4a7f66be",
   "metadata": {},
   "source": [
    "# Natural Language Processing(NLP)\n",
    "* Broad topic that we can only touch on\n",
    "* Typically involves ingesting text for analysis or modeling\n",
    "* Commonly used NLP libraries\n",
    "    * [NLTK](https://www.nltk.org/) -- partially installed with Anaconda\n",
    "    * [Beautiful soup](https://www.crummy.com/software/BeautifulSoup/bs4/doc/) -- html parser\n",
    "    * [Wordcloud](https://pypi.org/project/wordcloud/)"
   ]
  },
  {
   "cell_type": "code",
   "execution_count": 3,
   "id": "6ba0bd16",
   "metadata": {},
   "outputs": [
    {
     "name": "stdout",
     "output_type": "stream",
     "text": [
      "Collecting wordcloud\n",
      "  Obtaining dependency information for wordcloud from https://files.pythonhosted.org/packages/ac/66/937d1d73389c0b501c928c4d8513653063d2b40272dff70d0e283d8b9144/wordcloud-1.9.3-cp311-cp311-macosx_11_0_arm64.whl.metadata\n",
      "  Downloading wordcloud-1.9.3-cp311-cp311-macosx_11_0_arm64.whl.metadata (3.4 kB)\n",
      "Requirement already satisfied: numpy>=1.6.1 in /Users/abdurrahman/anaconda3/lib/python3.11/site-packages (from wordcloud) (1.24.3)\n",
      "Requirement already satisfied: pillow in /Users/abdurrahman/anaconda3/lib/python3.11/site-packages (from wordcloud) (10.0.1)\n",
      "Requirement already satisfied: matplotlib in /Users/abdurrahman/anaconda3/lib/python3.11/site-packages (from wordcloud) (3.7.2)\n",
      "Requirement already satisfied: contourpy>=1.0.1 in /Users/abdurrahman/anaconda3/lib/python3.11/site-packages (from matplotlib->wordcloud) (1.0.5)\n",
      "Requirement already satisfied: cycler>=0.10 in /Users/abdurrahman/anaconda3/lib/python3.11/site-packages (from matplotlib->wordcloud) (0.11.0)\n",
      "Requirement already satisfied: fonttools>=4.22.0 in /Users/abdurrahman/anaconda3/lib/python3.11/site-packages (from matplotlib->wordcloud) (4.25.0)\n",
      "Requirement already satisfied: kiwisolver>=1.0.1 in /Users/abdurrahman/anaconda3/lib/python3.11/site-packages (from matplotlib->wordcloud) (1.4.4)\n",
      "Requirement already satisfied: packaging>=20.0 in /Users/abdurrahman/anaconda3/lib/python3.11/site-packages (from matplotlib->wordcloud) (23.1)\n",
      "Requirement already satisfied: pyparsing<3.1,>=2.3.1 in /Users/abdurrahman/anaconda3/lib/python3.11/site-packages (from matplotlib->wordcloud) (3.0.9)\n",
      "Requirement already satisfied: python-dateutil>=2.7 in /Users/abdurrahman/anaconda3/lib/python3.11/site-packages (from matplotlib->wordcloud) (2.8.2)\n",
      "Requirement already satisfied: six>=1.5 in /Users/abdurrahman/anaconda3/lib/python3.11/site-packages (from python-dateutil>=2.7->matplotlib->wordcloud) (1.16.0)\n",
      "Downloading wordcloud-1.9.3-cp311-cp311-macosx_11_0_arm64.whl (168 kB)\n",
      "\u001b[2K   \u001b[90m━━━━━━━━━━━━━━━━━━━━━━━━━━━━━━━━━━━━━━━\u001b[0m \u001b[32m168.3/168.3 kB\u001b[0m \u001b[31m770.6 kB/s\u001b[0m eta \u001b[36m0:00:00\u001b[0ma \u001b[36m0:00:01\u001b[0m\n",
      "\u001b[?25hInstalling collected packages: wordcloud\n",
      "Successfully installed wordcloud-1.9.3\n"
     ]
    }
   ],
   "source": [
    "!pip install wordcloud\n",
    "from bs4 import BeautifulSoup as bs # no, the pun is not lost \n",
    "import requests\n",
    "from wordcloud import WordCloud, STOPWORDS"
   ]
  },
  {
   "cell_type": "code",
   "execution_count": 4,
   "id": "36ae8a3f",
   "metadata": {},
   "outputs": [],
   "source": [
    "url =\"https://alphabench.com/data/python-loan-analysis.html\"\n",
    "data = requests.get(url).text"
   ]
  },
  {
   "cell_type": "code",
   "execution_count": 5,
   "id": "1f5c892d",
   "metadata": {},
   "outputs": [
    {
     "data": {
      "text/plain": [
       "'<!doctype html>\\n\\n<html lang=\"en\">\\n<!-- color: #A80B13; color: #5274AB;-->\\n<head>\\n\\t<meta charset=\"utf-8\">\\n\\t<meta http-equiv=\"X-UA-Compatible\" content=\"IE=edge\">\\n\\t<meta name=\"viewport\" content=\"width=device-width, initial-scale=1\">\\n\\t<meta name=\"keywords\" content=\"python tutorial,python,numpy financial,loan analysis,python projects,python project ideas,python for finance,basic python for finance,python finance,python loan payment calculator,python automation,matt macarty,plotting mortgages in Python,amortization in Python,calculate monthly payment in Python,python app development,python class init method,python class for beginners,python automation project,plotting mortgages in python,python automation projects\">\\n\\t<meta name=\"description\" content=\"Python project video tutorials: create a loan analysis application \">\\n\\t<meta property=\"og:title\" content=\"Use Python to create a loan class - and application based on the class\">\\n\\t<meta property=\"og:image\" content=\"https://alphabench.com/images/AlphaBenchLogo_bigger.jpg\">\\n\\t<meta property=\"og:url\" content=\"https://alphabench.com/data/python-loan-analysis.html\">\\n\\t<meta property=\"og:description\" content=\"Python project video tutorials: create a loan analysis application\">\\n\\n\\t<meta name=\"twitter:card\" content=\"summary\">\\n\\t<meta name=\"twitter:site\" content=\"https://alphabench.com\">\\n\\t<meta name=\"twitter:creator\" content=\"@mjmacarty\">\\n\\t<meta name=\"twitter:image:src\" content=\"https://alphabench.com/images/AlphaBenchLogo_bigger.jpg\">\\n\\n\\t<meta name=\"twitter:title\" content=\"Using EODHistorical Data\">\\n\\t<meta name=\"twitter:description\" content=\"Python project video tutorials: create a loan analysis application\">\\n\\t\\n\\t<title>Python Project: Create a Loan Analysis Application</title>\\n\\t<link rel=\"shortcut icon\" href=\"../images/favicon/favicon.ico\" >\\n   <link rel=\"icon\" type=\"image/gif\" href=\"../images/favicon/animated_favicon1.gif\" >\\n\\n\\t\\n\\n\\t\\n\\n</head>\\n\\n<body>\\n\\t<div class=\"container\">\\n\\t\\t<div class=\"row\">\\n\\t\\t\\t<div class=\"col-xs-12 col-sm-3 col1\">\\n\\t\\t\\t\\t<img src=\"../images/AlphaBenchLogo.jpg\" alt=\"ab-logo\">\\n\\t\\t\\t</div>\\n\\t\\t\\t\\n\\t\\t\\t<div class=\"col-xs-6 col-sm-6 col2\">\\n\\n\\t\\t\\t\\t<h2 style=\"margin-top:60px;color: #A80B13;\">Code. <span style=\"color: #5274AB;\">Models.</span> Analysis.<span style=\"color: #5274AB;\"> Decisions.\\n\\t\\t\\t\\t</span></h2>\\n\\t\\t\\t\\t<a href=\"https://twitter.com/mjmacarty?ref_src=twsrc%5Etfw\" class=\"twitter-follow-button\" data-show-count=\"false\">Follow @mjmacarty</a><script async src=\"https://platform.twitter.com/widgets.js\" charset=\"utf-8\"></script>\\n\\t\\t\\t</div>\\t\\t\\n\\t\\t\\t<div class=\"col-xs-12 col-sm-9 navbar navbar-default\">\\n\\t\\t\\t\\t<div class=\"container-fluid\">\\n\\t\\t\\t\\t<div class=\"navbar-header\">\\n\\t\\t\\t\\t<ul class=\"nav navbar-nav\">\\n\\t\\t\\t\\t\\t<li><a href=\"../index.html\">Home</a></li>\\n\\t\\t\\t\\t\\t<li><a href=\"../about.html\">About</a></li>\\n\\t\\t\\t\\t\\t<li><a href=\"../programs.html\">Programs</a></li>\\n\\t\\t\\t\\t\\t<li><a href=\"../contact.html\">Contact</a></li>\\n\\t\\t\\t\\t\\t<li><a href=\"../publications.html\">Publications</a></li>\\n\\t\\t\\t\\t\\t<li><a href=\"../resources.html\">Resources</a></li>\\n\\t\\t\\t\\t\\t<li><a href=\"../faq.html\">FAQ</a></li>\\n\\n\\t\\t\\t\\t</ul>\\n\\t\\t\\t\\t</div>\\n\\t\\t\\t\\t</div>\\t\\t\\t\\t\\n\\t\\t\\t</div>\\n\\t\\t\\t\\t\\t\\t\\n\\t\\t</div>\\n\\n\\t\\t<div class=\"row\">\\n\\t\\t<div class=\"h-divider\"></div><br>\\n\\t\\t\\t<div class=\"well\">\\n\\t\\t\\t<h1>Python Projects: Creating a Loan Analysis Application</h1>\\n\\t\\t\\t\\n<p>In the following video tutorials, we\\'re going to be making a loan class to handle some of the common, repetitive tasks that are involved in loan analysis and then make an application based on the class. So when we\\'re done, not only will you have a menu driven application, but you will also be able to import and use the class in your Python applications. <a href=\"https://github.com/mjmacarty/numpy_financial\">You can download the code from Github</a>.</p>\\n\\n<p><a href=\"#video\">Skip down to the video tutorial</a></p> \\n \\n<p>The application will handle a number of common loan analysis tasks, very simply with minimal user inputs  the interest rate, the term and the amount of money we\\'re borrowing. With just hose three inputs you can call payment, generate a summary and amortization table. You can always add functionality to your analyzer to make it better fit your needs.</p> \\n\\n<p>I have arbitrarily decided what a loan summary should look like, so if you don\\'t like the summary I have come up with, you can add outputs to it as you see fit. Our class will also allow you see what happens if you pay a little bit extra every month. For example if you add $100 every month, you will be able to see how much faster you can pay a loan off. Or suppose you want to payoff your loan in nine (9) years, you will be able to see how much to add each month. </p>\\n\\n\\n<p>We start off by importing matplotlib, pandas for the amortization table and NumPy Financial, for the time value of money calculations. NumPy Financial used to be part of NumPy, but is now its own module, so you may have to install it. Assuming you are working from an Anaconda installation you should already have matplotlib and pandas.  We are also going to use another third party library that you will also likely have to install: dateutils,  to synchronize our loan to the beginning of a month. To install them, you can launch a command line interface and use pip to install.</p>\\n<code>pip install numpy-financial</code><br>\\n<code>pip install dateutils</code><br><br>\\n\\n<p>Once we have our imports, we will go ahead and define our class, and initializer. To instantiate a Loan object we will pass in interest rate, term and amount borrowed as well as a starting date. We are going set our start date to default to the first of the month following the current date, but you will be able to manually enter any iso date if desired as well.</p>\\n\\n<p>With these basic inputs we will use NumPy Financial to calculate a payment. I am going to give developers access to the float value of the loan payment as well as a string version which will be convenient for some outputs.</p>\\n\\n<p>Next up, we will write a method  to generate an amortization table. Inside the method we will make a few arrays and then combine them into a <i>pandas DataFrame</i> to create our amortization table. First up, we will convert the term into monthly periods, starting at some user specified date. This will be the DataFrame index. We will also enumerate out interest and principal per period, again leveraging NumPy Financial here.  With these initial \"columns\" defined, we can create a preliminary DataFrame.</p> \\n\\n<p>Then usually these amortization tables have a running balance in them and this is easy to add based on our preliminary columns and a cumulative some of principal paid. We\\'ll take our initial loan amount and just subtract away the cumulative principal.  So that\\'s our amortization table,  and once we\\'re done there, we\\'re going to return it. I am also going to add this amortization table to the class initializer.</p> \\n\\n<p>Next we will and add another method to plot the interest paid against the balance over time. This is basically a convenience method so the user doesn\\'t have to waste time completing common tasks. So we\\'ll just define a method called plot balances and it won\\'t take any arguments because we\\'ll just use some of these class variables from the amortization table. Our chart is fairly basic with legend labels and grid lines. You can modify that to make it look however you want.</p>\\n\\n<p>Moving on to our next method, we will define our summary. Again, we don\\'t need any arguments here. For this we are just going to format some strings and output them as a little table. Again I arbitrarily chose the monthly payment, the date that you pay off the loan and then the total interest to be the summary. Obviously, we could include other things in the summary, but that\\'s what I\\'ve chosen.</p> \\n\\n\\n<p>Now we move on to the more analytical methods. First we are going output how many years it will take to pay off a loan a constant extra every month. We have to pass the monthly extra into our method, but then we once again use NumPy Financial to calculate the number of periods in the loan.  We\\'re going to use the nper function and if we want periods expressed as years, we will divide that by 12. </p>\\n\\n<p>The last method we are going to write will take as an argument the number of years we want to be able to pay the loan off in and then return the amount of the extra payment that we need to add every month.</p>\\n\\n<p>With that done we have our Loan class and we can start using it in other applications, and the second tuturial below gives you an example of what something you can do looks like.</p> \\n\\t\\t\\t\\t\\t\\t\\n\\t\\t\\t\\n\\t\\t\\t\\t\\t\\t\\n\\n<h4>Download the code:</h4>\\n                   \\n<p><b><a href=\"https://github.com/mjmacarty/numpy_financial\">Get the notebooks here.</a></b></p>\\n\\n\\n\\t\\t\\t\\t\\n\\t\\t\\t\\t<div class=\"h-divider\"></div>\\n\\t\\t\\t\\t<h2 id=\"video\">Python Automation Project: Make a Mortgage Loan Analyzer Class</h2>\\n\\t\\t\\t\\t<div class=\"embed-responsive embed-responsive-16by9\">\\n\\t\\t\\t\\t\\t\\n\\t\\t\\t\\t\\t<iframe width=\"560\" height=\"315\" src=\"https://www.youtube.com/embed/jZjGnCyHa9Q\" title=\"YouTube video player\" frameborder=\"0\" allow=\"accelerometer; autoplay; clipboard-write; encrypted-media; gyroscope; picture-in-picture\" allowfullscreen></iframe>\\n\\t\\t\\t\\t\\t\\n\\t\\t\\t\\t</div>\\n\\t\\t\\t\\t\\t\\n\\t\\t\\t\\t<br>\\n\\t\\t\\t\\t<div class=\"h-divider\"></div>\\n\\t\\t\\t\\t\\n\\t\\t\\t\\t<h2>Python Automation Project: Mortgage Loan Analysis Application</h2>\\n\\t\\t\\t\\t<div class=\"embed-responsive embed-responsive-16by9\">\\n\\t\\t\\t\\t\\t\\n\\t\\t\\t\\t\\t<iframe width=\"560\" height=\"315\" src=\"https://www.youtube.com/embed/mS4a_p-2jAg\" title=\"YouTube video player\" frameborder=\"0\" allow=\"accelerometer; autoplay; clipboard-write; encrypted-media; gyroscope; picture-in-picture\" allowfullscreen></iframe>\\n\\t\\t\\t\\t\\t\\n\\t\\t\\t\\t</div>\\n\\t\\t\\t\\t\\t\\n\\t\\t\\t\\t<br>\\n\\t\\t\\t\\t<div class=\"h-divider\"></div>\\n\\n\\n \\t\\t\\t\\t<div id=\"python\"></div>\\t\\t\\t\\t\\n\\t\\t\\t</div>\\n\\t\\t\\t\\t\\n\\t\\t\\t\\n\\t\\t</div>\\n\\t</div>\\n\\n\\t<footer class=\"footer\">\\n\\t\\t\\t<div class=\"container\">\\n\\t\\t\\t<p id=\"date-copy\" class=\"text-muted\" style=\"margin-top:20px;\">&copy; 2016. All rights reserved.</p>\\n\\t\\t\\t</div>\\n\\t\\t</footer>\\n\\n\\t\\t<script  async src=\"https://code.jquery.com/jquery-1.11.0.min.js\"   integrity=\"sha256-spTpc4lvj4dOkKjrGokIrHkJgNA0xMS98Pw9N7ir9oI=\"   crossorigin=\"anonymous\"></script>\\n      <script async type=\"text/javascript\" src=\"../css/bootstrap/js/bootstrap.min.js\"></script>\\n      <link rel=\"stylesheet\" type=\"text/css\" href=\"../css/bootstrap/css/bootstrap.css\">\\n      <link rel=\"stylesheet\" type=\"text/css\" href=\"../css/footer.css\">\\n\\n      <!-- Go to www.addthis.com/dashboard to customize your tools -->\\n<script type=\"text/javascript\" src=\"//s7.addthis.com/js/300/addthis_widget.js#pubid=ra-58711c341c20c74b\"></script>\\n<script type=\"text/javascript\" src=\"../script/py-list.js\"></script>\\n<script type=\"text/javascript\" src=\"../script/date-js.js\"></script>\\n\\n<!-- Google tag (gtag.js) -->\\n<script async src=\"https://www.googletagmanager.com/gtag/js?id=G-NX3QVGTM8M\"></script>\\n<script>\\n  window.dataLayer = window.dataLayer || [];\\n  function gtag(){dataLayer.push(arguments);}\\n  gtag(\\'js\\', new Date());\\n\\n  gtag(\\'config\\', \\'G-NX3QVGTM8M\\');\\n</script>\\n\\n</body>\\n</html>'"
      ]
     },
     "execution_count": 5,
     "metadata": {},
     "output_type": "execute_result"
    }
   ],
   "source": [
    "# get raw html\n",
    "soup = bs(data, "
   ]
  },
  {
   "cell_type": "code",
   "execution_count": 81,
   "id": "13a1fb7e",
   "metadata": {},
   "outputs": [],
   "source": [
    "# get the first paragraph, with and without tag\n"
   ]
  },
  {
   "cell_type": "code",
   "execution_count": 82,
   "id": "b76692fa",
   "metadata": {},
   "outputs": [],
   "source": [
    "# get the text of all hyperlinks\n"
   ]
  },
  {
   "cell_type": "code",
   "execution_count": 83,
   "id": "f5961424",
   "metadata": {},
   "outputs": [],
   "source": [
    "# get the URLs for all hyperlinks\n"
   ]
  },
  {
   "cell_type": "code",
   "execution_count": 84,
   "id": "18f865ea",
   "metadata": {},
   "outputs": [],
   "source": [
    "# get text in paragraphs\n"
   ]
  },
  {
   "cell_type": "code",
   "execution_count": null,
   "id": "585fb35d",
   "metadata": {},
   "outputs": [],
   "source": []
  },
  {
   "cell_type": "code",
   "execution_count": null,
   "id": "1f00f8f2",
   "metadata": {},
   "outputs": [],
   "source": [
    "\n",
    "\n",
    "    "
   ]
  },
  {
   "cell_type": "code",
   "execution_count": null,
   "id": "4b98053a",
   "metadata": {},
   "outputs": [],
   "source": [
    "# tokenize text from webpage\n",
    "from nltk.tokenize import RegexpTokenizer\n"
   ]
  },
  {
   "cell_type": "code",
   "execution_count": 65,
   "id": "a6442053",
   "metadata": {},
   "outputs": [],
   "source": []
  },
  {
   "cell_type": "code",
   "execution_count": null,
   "id": "f4883e84",
   "metadata": {},
   "outputs": [],
   "source": []
  },
  {
   "cell_type": "code",
   "execution_count": null,
   "id": "0be837d9",
   "metadata": {},
   "outputs": [],
   "source": [
    "from nltk import ngrams, FreqDist\n"
   ]
  },
  {
   "cell_type": "markdown",
   "id": "892b72a7",
   "metadata": {},
   "source": [
    "### Word frequencies, bigrams, etc"
   ]
  },
  {
   "cell_type": "code",
   "execution_count": null,
   "id": "11938ca1",
   "metadata": {},
   "outputs": [],
   "source": []
  },
  {
   "cell_type": "markdown",
   "id": "c9b6bfe1",
   "metadata": {},
   "source": [
    "### Sentiment Analysis"
   ]
  },
  {
   "cell_type": "code",
   "execution_count": null,
   "id": "2170be32",
   "metadata": {},
   "outputs": [],
   "source": [
    "# sentiment analysis\n",
    "from nltk.sentiment.vader import SentimentIntensityAnalyzer\n"
   ]
  },
  {
   "cell_type": "markdown",
   "id": "c6d60b57",
   "metadata": {},
   "source": [
    "### Word Cloud"
   ]
  },
  {
   "cell_type": "code",
   "execution_count": 79,
   "id": "2eb05ad7",
   "metadata": {},
   "outputs": [],
   "source": [
    "import matplotlib.pyplot as plt\n",
    "from wordcloud import WordCloud, STOPWORDS "
   ]
  },
  {
   "cell_type": "code",
   "execution_count": null,
   "id": "c3be7f7d",
   "metadata": {},
   "outputs": [],
   "source": []
  },
  {
   "cell_type": "code",
   "execution_count": null,
   "id": "e07c1b80",
   "metadata": {},
   "outputs": [],
   "source": []
  },
  {
   "cell_type": "code",
   "execution_count": null,
   "id": "5d531091",
   "metadata": {},
   "outputs": [],
   "source": []
  },
  {
   "cell_type": "code",
   "execution_count": null,
   "id": "9ac94421",
   "metadata": {},
   "outputs": [],
   "source": []
  }
 ],
 "metadata": {
  "kernelspec": {
   "display_name": "Python 3 (ipykernel)",
   "language": "python",
   "name": "python3"
  },
  "language_info": {
   "codemirror_mode": {
    "name": "ipython",
    "version": 3
   },
   "file_extension": ".py",
   "mimetype": "text/x-python",
   "name": "python",
   "nbconvert_exporter": "python",
   "pygments_lexer": "ipython3",
   "version": "3.11.5"
  }
 },
 "nbformat": 4,
 "nbformat_minor": 5
}
