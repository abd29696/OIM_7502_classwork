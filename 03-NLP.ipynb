{
 "cells": [
  {
   "cell_type": "markdown",
   "id": "4a7f66be",
   "metadata": {},
   "source": [
    "# Natural Language Processing(NLP)\n",
    "* Broad topic that we can only touch on\n",
    "* Typically involves ingesting text for analysis or modeling\n",
    "* Commonly used NLP libraries\n",
    "    * [NLTK](https://www.nltk.org/) -- partially installed with Anaconda\n",
    "    * [Beautiful soup](https://www.crummy.com/software/BeautifulSoup/bs4/doc/) -- html parser\n",
    "    * [Wordcloud](https://pypi.org/project/wordcloud/)"
   ]
  },
  {
   "cell_type": "code",
   "execution_count": 3,
   "id": "6ba0bd16",
   "metadata": {},
   "outputs": [
    {
     "name": "stdout",
     "output_type": "stream",
     "text": [
      "Collecting wordcloud\n",
      "  Obtaining dependency information for wordcloud from https://files.pythonhosted.org/packages/ac/66/937d1d73389c0b501c928c4d8513653063d2b40272dff70d0e283d8b9144/wordcloud-1.9.3-cp311-cp311-macosx_11_0_arm64.whl.metadata\n",
      "  Downloading wordcloud-1.9.3-cp311-cp311-macosx_11_0_arm64.whl.metadata (3.4 kB)\n",
      "Requirement already satisfied: numpy>=1.6.1 in /Users/abdurrahman/anaconda3/lib/python3.11/site-packages (from wordcloud) (1.24.3)\n",
      "Requirement already satisfied: pillow in /Users/abdurrahman/anaconda3/lib/python3.11/site-packages (from wordcloud) (10.0.1)\n",
      "Requirement already satisfied: matplotlib in /Users/abdurrahman/anaconda3/lib/python3.11/site-packages (from wordcloud) (3.7.2)\n",
      "Requirement already satisfied: contourpy>=1.0.1 in /Users/abdurrahman/anaconda3/lib/python3.11/site-packages (from matplotlib->wordcloud) (1.0.5)\n",
      "Requirement already satisfied: cycler>=0.10 in /Users/abdurrahman/anaconda3/lib/python3.11/site-packages (from matplotlib->wordcloud) (0.11.0)\n",
      "Requirement already satisfied: fonttools>=4.22.0 in /Users/abdurrahman/anaconda3/lib/python3.11/site-packages (from matplotlib->wordcloud) (4.25.0)\n",
      "Requirement already satisfied: kiwisolver>=1.0.1 in /Users/abdurrahman/anaconda3/lib/python3.11/site-packages (from matplotlib->wordcloud) (1.4.4)\n",
      "Requirement already satisfied: packaging>=20.0 in /Users/abdurrahman/anaconda3/lib/python3.11/site-packages (from matplotlib->wordcloud) (23.1)\n",
      "Requirement already satisfied: pyparsing<3.1,>=2.3.1 in /Users/abdurrahman/anaconda3/lib/python3.11/site-packages (from matplotlib->wordcloud) (3.0.9)\n",
      "Requirement already satisfied: python-dateutil>=2.7 in /Users/abdurrahman/anaconda3/lib/python3.11/site-packages (from matplotlib->wordcloud) (2.8.2)\n",
      "Requirement already satisfied: six>=1.5 in /Users/abdurrahman/anaconda3/lib/python3.11/site-packages (from python-dateutil>=2.7->matplotlib->wordcloud) (1.16.0)\n",
      "Downloading wordcloud-1.9.3-cp311-cp311-macosx_11_0_arm64.whl (168 kB)\n",
      "\u001b[2K   \u001b[90m━━━━━━━━━━━━━━━━━━━━━━━━━━━━━━━━━━━━━━━\u001b[0m \u001b[32m168.3/168.3 kB\u001b[0m \u001b[31m770.6 kB/s\u001b[0m eta \u001b[36m0:00:00\u001b[0ma \u001b[36m0:00:01\u001b[0m\n",
      "\u001b[?25hInstalling collected packages: wordcloud\n",
      "Successfully installed wordcloud-1.9.3\n"
     ]
    }
   ],
   "source": [
    "!pip install wordcloud\n",
    "from bs4 import BeautifulSoup as bs # no, the pun is not lost \n",
    "import requests\n",
    "from wordcloud import WordCloud, STOPWORDS"
   ]
  },
  {
   "cell_type": "code",
   "execution_count": 4,
   "id": "36ae8a3f",
   "metadata": {},
   "outputs": [],
   "source": [
    "url =\"https://alphabench.com/data/python-loan-analysis.html\"\n",
    "data = requests.get(url).text"
   ]
  },
  {
   "cell_type": "code",
   "execution_count": 7,
   "id": "1f5c892d",
   "metadata": {},
   "outputs": [
    {
     "data": {
      "text/plain": [
       "<!DOCTYPE html>\n",
       "\n",
       "<html lang=\"en\">\n",
       "<!-- color: #A80B13; color: #5274AB;-->\n",
       "<head>\n",
       "<meta charset=\"utf-8\"/>\n",
       "<meta content=\"IE=edge\" http-equiv=\"X-UA-Compatible\"/>\n",
       "<meta content=\"width=device-width, initial-scale=1\" name=\"viewport\"/>\n",
       "<meta content=\"python tutorial,python,numpy financial,loan analysis,python projects,python project ideas,python for finance,basic python for finance,python finance,python loan payment calculator,python automation,matt macarty,plotting mortgages in Python,amortization in Python,calculate monthly payment in Python,python app development,python class init method,python class for beginners,python automation project,plotting mortgages in python,python automation projects\" name=\"keywords\"/>\n",
       "<meta content=\"Python project video tutorials: create a loan analysis application \" name=\"description\"/>\n",
       "<meta content=\"Use Python to create a loan class - and application based on the class\" property=\"og:title\"/>\n",
       "<meta content=\"https://alphabench.com/images/AlphaBenchLogo_bigger.jpg\" property=\"og:image\"/>\n",
       "<meta content=\"https://alphabench.com/data/python-loan-analysis.html\" property=\"og:url\"/>\n",
       "<meta content=\"Python project video tutorials: create a loan analysis application\" property=\"og:description\"/>\n",
       "<meta content=\"summary\" name=\"twitter:card\"/>\n",
       "<meta content=\"https://alphabench.com\" name=\"twitter:site\"/>\n",
       "<meta content=\"@mjmacarty\" name=\"twitter:creator\"/>\n",
       "<meta content=\"https://alphabench.com/images/AlphaBenchLogo_bigger.jpg\" name=\"twitter:image:src\"/>\n",
       "<meta content=\"Using EODHistorical Data\" name=\"twitter:title\"/>\n",
       "<meta content=\"Python project video tutorials: create a loan analysis application\" name=\"twitter:description\"/>\n",
       "<title>Python Project: Create a Loan Analysis Application</title>\n",
       "<link href=\"../images/favicon/favicon.ico\" rel=\"shortcut icon\"/>\n",
       "<link href=\"../images/favicon/animated_favicon1.gif\" rel=\"icon\" type=\"image/gif\"/>\n",
       "</head>\n",
       "<body>\n",
       "<div class=\"container\">\n",
       "<div class=\"row\">\n",
       "<div class=\"col-xs-12 col-sm-3 col1\">\n",
       "<img alt=\"ab-logo\" src=\"../images/AlphaBenchLogo.jpg\"/>\n",
       "</div>\n",
       "<div class=\"col-xs-6 col-sm-6 col2\">\n",
       "<h2 style=\"margin-top:60px;color: #A80B13;\">Code. <span style=\"color: #5274AB;\">Models.</span> Analysis.<span style=\"color: #5274AB;\"> Decisions.\n",
       "\t\t\t\t</span></h2>\n",
       "<a class=\"twitter-follow-button\" data-show-count=\"false\" href=\"https://twitter.com/mjmacarty?ref_src=twsrc%5Etfw\">Follow @mjmacarty</a><script async=\"\" charset=\"utf-8\" src=\"https://platform.twitter.com/widgets.js\"></script>\n",
       "</div>\n",
       "<div class=\"col-xs-12 col-sm-9 navbar navbar-default\">\n",
       "<div class=\"container-fluid\">\n",
       "<div class=\"navbar-header\">\n",
       "<ul class=\"nav navbar-nav\">\n",
       "<li><a href=\"../index.html\">Home</a></li>\n",
       "<li><a href=\"../about.html\">About</a></li>\n",
       "<li><a href=\"../programs.html\">Programs</a></li>\n",
       "<li><a href=\"../contact.html\">Contact</a></li>\n",
       "<li><a href=\"../publications.html\">Publications</a></li>\n",
       "<li><a href=\"../resources.html\">Resources</a></li>\n",
       "<li><a href=\"../faq.html\">FAQ</a></li>\n",
       "</ul>\n",
       "</div>\n",
       "</div>\n",
       "</div>\n",
       "</div>\n",
       "<div class=\"row\">\n",
       "<div class=\"h-divider\"></div><br/>\n",
       "<div class=\"well\">\n",
       "<h1>Python Projects: Creating a Loan Analysis Application</h1>\n",
       "<p>In the following video tutorials, we're going to be making a loan class to handle some of the common, repetitive tasks that are involved in loan analysis and then make an application based on the class. So when we're done, not only will you have a menu driven application, but you will also be able to import and use the class in your Python applications. <a href=\"https://github.com/mjmacarty/numpy_financial\">You can download the code from Github</a>.</p>\n",
       "<p><a href=\"#video\">Skip down to the video tutorial</a></p>\n",
       "<p>The application will handle a number of common loan analysis tasks, very simply with minimal user inputs  the interest rate, the term and the amount of money we're borrowing. With just hose three inputs you can call payment, generate a summary and amortization table. You can always add functionality to your analyzer to make it better fit your needs.</p>\n",
       "<p>I have arbitrarily decided what a loan summary should look like, so if you don't like the summary I have come up with, you can add outputs to it as you see fit. Our class will also allow you see what happens if you pay a little bit extra every month. For example if you add $100 every month, you will be able to see how much faster you can pay a loan off. Or suppose you want to payoff your loan in nine (9) years, you will be able to see how much to add each month. </p>\n",
       "<p>We start off by importing matplotlib, pandas for the amortization table and NumPy Financial, for the time value of money calculations. NumPy Financial used to be part of NumPy, but is now its own module, so you may have to install it. Assuming you are working from an Anaconda installation you should already have matplotlib and pandas.  We are also going to use another third party library that you will also likely have to install: dateutils,  to synchronize our loan to the beginning of a month. To install them, you can launch a command line interface and use pip to install.</p>\n",
       "<code>pip install numpy-financial</code><br/>\n",
       "<code>pip install dateutils</code><br/><br/>\n",
       "<p>Once we have our imports, we will go ahead and define our class, and initializer. To instantiate a Loan object we will pass in interest rate, term and amount borrowed as well as a starting date. We are going set our start date to default to the first of the month following the current date, but you will be able to manually enter any iso date if desired as well.</p>\n",
       "<p>With these basic inputs we will use NumPy Financial to calculate a payment. I am going to give developers access to the float value of the loan payment as well as a string version which will be convenient for some outputs.</p>\n",
       "<p>Next up, we will write a method  to generate an amortization table. Inside the method we will make a few arrays and then combine them into a <i>pandas DataFrame</i> to create our amortization table. First up, we will convert the term into monthly periods, starting at some user specified date. This will be the DataFrame index. We will also enumerate out interest and principal per period, again leveraging NumPy Financial here.  With these initial \"columns\" defined, we can create a preliminary DataFrame.</p>\n",
       "<p>Then usually these amortization tables have a running balance in them and this is easy to add based on our preliminary columns and a cumulative some of principal paid. We'll take our initial loan amount and just subtract away the cumulative principal.  So that's our amortization table,  and once we're done there, we're going to return it. I am also going to add this amortization table to the class initializer.</p>\n",
       "<p>Next we will and add another method to plot the interest paid against the balance over time. This is basically a convenience method so the user doesn't have to waste time completing common tasks. So we'll just define a method called plot balances and it won't take any arguments because we'll just use some of these class variables from the amortization table. Our chart is fairly basic with legend labels and grid lines. You can modify that to make it look however you want.</p>\n",
       "<p>Moving on to our next method, we will define our summary. Again, we don't need any arguments here. For this we are just going to format some strings and output them as a little table. Again I arbitrarily chose the monthly payment, the date that you pay off the loan and then the total interest to be the summary. Obviously, we could include other things in the summary, but that's what I've chosen.</p>\n",
       "<p>Now we move on to the more analytical methods. First we are going output how many years it will take to pay off a loan a constant extra every month. We have to pass the monthly extra into our method, but then we once again use NumPy Financial to calculate the number of periods in the loan.  We're going to use the nper function and if we want periods expressed as years, we will divide that by 12. </p>\n",
       "<p>The last method we are going to write will take as an argument the number of years we want to be able to pay the loan off in and then return the amount of the extra payment that we need to add every month.</p>\n",
       "<p>With that done we have our Loan class and we can start using it in other applications, and the second tuturial below gives you an example of what something you can do looks like.</p>\n",
       "<h4>Download the code:</h4>\n",
       "<p><b><a href=\"https://github.com/mjmacarty/numpy_financial\">Get the notebooks here.</a></b></p>\n",
       "<div class=\"h-divider\"></div>\n",
       "<h2 id=\"video\">Python Automation Project: Make a Mortgage Loan Analyzer Class</h2>\n",
       "<div class=\"embed-responsive embed-responsive-16by9\">\n",
       "<iframe allow=\"accelerometer; autoplay; clipboard-write; encrypted-media; gyroscope; picture-in-picture\" allowfullscreen=\"\" frameborder=\"0\" height=\"315\" src=\"https://www.youtube.com/embed/jZjGnCyHa9Q\" title=\"YouTube video player\" width=\"560\"></iframe>\n",
       "</div>\n",
       "<br/>\n",
       "<div class=\"h-divider\"></div>\n",
       "<h2>Python Automation Project: Mortgage Loan Analysis Application</h2>\n",
       "<div class=\"embed-responsive embed-responsive-16by9\">\n",
       "<iframe allow=\"accelerometer; autoplay; clipboard-write; encrypted-media; gyroscope; picture-in-picture\" allowfullscreen=\"\" frameborder=\"0\" height=\"315\" src=\"https://www.youtube.com/embed/mS4a_p-2jAg\" title=\"YouTube video player\" width=\"560\"></iframe>\n",
       "</div>\n",
       "<br/>\n",
       "<div class=\"h-divider\"></div>\n",
       "<div id=\"python\"></div>\n",
       "</div>\n",
       "</div>\n",
       "</div>\n",
       "<footer class=\"footer\">\n",
       "<div class=\"container\">\n",
       "<p class=\"text-muted\" id=\"date-copy\" style=\"margin-top:20px;\">© 2016. All rights reserved.</p>\n",
       "</div>\n",
       "</footer>\n",
       "<script async=\"\" crossorigin=\"anonymous\" integrity=\"sha256-spTpc4lvj4dOkKjrGokIrHkJgNA0xMS98Pw9N7ir9oI=\" src=\"https://code.jquery.com/jquery-1.11.0.min.js\"></script>\n",
       "<script async=\"\" src=\"../css/bootstrap/js/bootstrap.min.js\" type=\"text/javascript\"></script>\n",
       "<link href=\"../css/bootstrap/css/bootstrap.css\" rel=\"stylesheet\" type=\"text/css\"/>\n",
       "<link href=\"../css/footer.css\" rel=\"stylesheet\" type=\"text/css\"/>\n",
       "<!-- Go to www.addthis.com/dashboard to customize your tools -->\n",
       "<script src=\"//s7.addthis.com/js/300/addthis_widget.js#pubid=ra-58711c341c20c74b\" type=\"text/javascript\"></script>\n",
       "<script src=\"../script/py-list.js\" type=\"text/javascript\"></script>\n",
       "<script src=\"../script/date-js.js\" type=\"text/javascript\"></script>\n",
       "<!-- Google tag (gtag.js) -->\n",
       "<script async=\"\" src=\"https://www.googletagmanager.com/gtag/js?id=G-NX3QVGTM8M\"></script>\n",
       "<script>\n",
       "  window.dataLayer = window.dataLayer || [];\n",
       "  function gtag(){dataLayer.push(arguments);}\n",
       "  gtag('js', new Date());\n",
       "\n",
       "  gtag('config', 'G-NX3QVGTM8M');\n",
       "</script>\n",
       "</body>\n",
       "</html>"
      ]
     },
     "execution_count": 7,
     "metadata": {},
     "output_type": "execute_result"
    }
   ],
   "source": [
    "# get raw html\n",
    "soup = bs(data, 'html.parser')\n",
    "soup"
   ]
  },
  {
   "cell_type": "code",
   "execution_count": 9,
   "id": "13a1fb7e",
   "metadata": {},
   "outputs": [
    {
     "data": {
      "text/plain": [
       "\"In the following video tutorials, we're going to be making a loan class to handle some of the common, repetitive tasks that are involved in loan analysis and then make an application based on the class. So when we're done, not only will you have a menu driven application, but you will also be able to import and use the class in your Python applications. You can download the code from Github.\""
      ]
     },
     "execution_count": 9,
     "metadata": {},
     "output_type": "execute_result"
    }
   ],
   "source": [
    "# get the first paragraph, with and without tag\n",
    "soup.p\n",
    "soup.p.text"
   ]
  },
  {
   "cell_type": "code",
   "execution_count": 18,
   "id": "b76692fa",
   "metadata": {},
   "outputs": [
    {
     "name": "stdout",
     "output_type": "stream",
     "text": [
      "https://twitter.com/mjmacarty?ref_src=twsrc%5Etfw\n",
      "../index.html\n",
      "../about.html\n",
      "../programs.html\n",
      "../contact.html\n",
      "../publications.html\n",
      "../resources.html\n",
      "../faq.html\n",
      "https://github.com/mjmacarty/numpy_financial\n",
      "#video\n",
      "https://github.com/mjmacarty/numpy_financial\n"
     ]
    }
   ],
   "source": [
    "# get the text of all hyperlinks\n",
    "for link in soup.find_all('a'):\n",
    "    print(link.get('href'))"
   ]
  },
  {
   "cell_type": "code",
   "execution_count": 83,
   "id": "f5961424",
   "metadata": {},
   "outputs": [],
   "source": [
    "# get the URLs for all hyperlinks\n"
   ]
  },
  {
   "cell_type": "code",
   "execution_count": 84,
   "id": "18f865ea",
   "metadata": {},
   "outputs": [],
   "source": [
    "# get text in paragraphs\n"
   ]
  },
  {
   "cell_type": "code",
   "execution_count": null,
   "id": "585fb35d",
   "metadata": {},
   "outputs": [],
   "source": [
    "import re\n",
    "def escape(text):\n",
    "    pattern re.compile(r'()')"
   ]
  },
  {
   "cell_type": "code",
   "execution_count": null,
   "id": "1f00f8f2",
   "metadata": {},
   "outputs": [],
   "source": [
    "\n",
    "\n",
    "    "
   ]
  },
  {
   "cell_type": "code",
   "execution_count": null,
   "id": "4b98053a",
   "metadata": {},
   "outputs": [],
   "source": [
    "# tokenize text from webpage\n",
    "from nltk.tokenize import RegexpTokenizer\n"
   ]
  },
  {
   "cell_type": "code",
   "execution_count": 65,
   "id": "a6442053",
   "metadata": {},
   "outputs": [],
   "source": []
  },
  {
   "cell_type": "code",
   "execution_count": null,
   "id": "f4883e84",
   "metadata": {},
   "outputs": [],
   "source": []
  },
  {
   "cell_type": "code",
   "execution_count": 20,
   "id": "0be837d9",
   "metadata": {},
   "outputs": [
    {
     "ename": "NameError",
     "evalue": "name 'text' is not defined",
     "output_type": "error",
     "traceback": [
      "\u001b[0;31m---------------------------------------------------------------------------\u001b[0m",
      "\u001b[0;31mNameError\u001b[0m                                 Traceback (most recent call last)",
      "Cell \u001b[0;32mIn[20], line 4\u001b[0m\n\u001b[1;32m      2\u001b[0m freqs \u001b[38;5;241m=\u001b[39m \u001b[38;5;28mdict\u001b[39m()\n\u001b[1;32m      3\u001b[0m \u001b[38;5;28;01mfor\u001b[39;00m ngram \u001b[38;5;129;01min\u001b[39;00m \u001b[38;5;241m1\u001b[39m,\u001b[38;5;241m2\u001b[39m,\u001b[38;5;241m3\u001b[39m,\u001b[38;5;241m4\u001b[39m:\n\u001b[0;32m----> 4\u001b[0m     freqs[ngram] \u001b[38;5;241m=\u001b[39m FreqDist(ngrams(text, ngram))\n",
      "\u001b[0;31mNameError\u001b[0m: name 'text' is not defined"
     ]
    }
   ],
   "source": [
    "from nltk import ngrams, FreqDist\n",
    "freqs = dict()\n",
    "for ngram in 1,2,3,4:\n",
    "    freqs[ngram] = FreqDist(ngrams(text, ngram))\n"
   ]
  },
  {
   "cell_type": "markdown",
   "id": "892b72a7",
   "metadata": {},
   "source": [
    "### Word frequencies, bigrams, etc"
   ]
  },
  {
   "cell_type": "code",
   "execution_count": null,
   "id": "11938ca1",
   "metadata": {},
   "outputs": [],
   "source": []
  },
  {
   "cell_type": "markdown",
   "id": "c9b6bfe1",
   "metadata": {},
   "source": [
    "### Sentiment Analysis"
   ]
  },
  {
   "cell_type": "code",
   "execution_count": null,
   "id": "2170be32",
   "metadata": {},
   "outputs": [],
   "source": [
    "# sentiment analysis\n",
    "from nltk.sentiment.vader import SentimentIntensityAnalyzer\n"
   ]
  },
  {
   "cell_type": "markdown",
   "id": "c6d60b57",
   "metadata": {},
   "source": [
    "### Word Cloud"
   ]
  },
  {
   "cell_type": "code",
   "execution_count": 79,
   "id": "2eb05ad7",
   "metadata": {},
   "outputs": [],
   "source": [
    "import matplotlib.pyplot as plt\n",
    "from wordcloud import WordCloud, STOPWORDS "
   ]
  },
  {
   "cell_type": "code",
   "execution_count": null,
   "id": "c3be7f7d",
   "metadata": {},
   "outputs": [],
   "source": []
  },
  {
   "cell_type": "code",
   "execution_count": null,
   "id": "e07c1b80",
   "metadata": {},
   "outputs": [],
   "source": []
  },
  {
   "cell_type": "code",
   "execution_count": null,
   "id": "5d531091",
   "metadata": {},
   "outputs": [],
   "source": []
  },
  {
   "cell_type": "code",
   "execution_count": null,
   "id": "9ac94421",
   "metadata": {},
   "outputs": [],
   "source": []
  }
 ],
 "metadata": {
  "kernelspec": {
   "display_name": "Python 3 (ipykernel)",
   "language": "python",
   "name": "python3"
  },
  "language_info": {
   "codemirror_mode": {
    "name": "ipython",
    "version": 3
   },
   "file_extension": ".py",
   "mimetype": "text/x-python",
   "name": "python",
   "nbconvert_exporter": "python",
   "pygments_lexer": "ipython3",
   "version": "3.11.5"
  }
 },
 "nbformat": 4,
 "nbformat_minor": 5
}
