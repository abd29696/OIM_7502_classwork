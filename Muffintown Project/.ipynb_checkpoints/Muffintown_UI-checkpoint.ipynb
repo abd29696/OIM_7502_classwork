{
 "cells": [
  {
   "cell_type": "code",
   "execution_count": 10,
   "id": "577ea849",
   "metadata": {},
   "outputs": [
    {
     "name": "stderr",
     "output_type": "stream",
     "text": [
      "/Users/abdurrahman/anaconda3/lib/python3.11/site-packages/gradio/utils.py:857: UserWarning: Expected 0 arguments for function <function process_data at 0x28f60ad40>, received 2.\n",
      "  warnings.warn(\n",
      "/Users/abdurrahman/anaconda3/lib/python3.11/site-packages/gradio/utils.py:865: UserWarning: Expected maximum 0 arguments for function <function process_data at 0x28f60ad40>, received 2.\n",
      "  warnings.warn(\n"
     ]
    },
    {
     "name": "stdout",
     "output_type": "stream",
     "text": [
      "Running on local URL:  http://127.0.0.1:7879\n",
      "Running on public URL: https://ea40d44069e114794c.gradio.live\n",
      "\n",
      "This share link expires in 72 hours. For free permanent hosting and GPU upgrades, run `gradio deploy` from Terminal to deploy to Spaces (https://huggingface.co/spaces)\n"
     ]
    },
    {
     "data": {
      "text/html": [
       "<div><iframe src=\"https://ea40d44069e114794c.gradio.live\" width=\"100%\" height=\"500\" allow=\"autoplay; camera; microphone; clipboard-read; clipboard-write;\" frameborder=\"0\" allowfullscreen></iframe></div>"
      ],
      "text/plain": [
       "<IPython.core.display.HTML object>"
      ]
     },
     "metadata": {},
     "output_type": "display_data"
    },
    {
     "data": {
      "text/plain": []
     },
     "execution_count": 10,
     "metadata": {},
     "output_type": "execute_result"
    }
   ],
   "source": [
    "import gradio as gr\n",
    "\n",
    "def process_data():\n",
    "    return \"ToDo\"\n",
    "\n",
    "def upload_file(files):\n",
    "    file_paths = [file.name for file in files]\n",
    "    return file_paths\n",
    "\n",
    "tab_search = gr.Interface(\n",
    "    inputs = [gr.Textbox(label=\"SKU\"), gr.Textbox(label=\"Factory\")],\n",
    "    outputs = [gr.Textbox(label=\"Records\"), gr.Textbox(label=\"Compliance\"),gr.Textbox(label=\"Avg Units/Hr\"), gr.Textbox(label=\"Std Dev\"), gr.BarPlot(label=\"Graph\")],\n",
    "    fn = process_data\n",
    ")\n",
    "\n",
    "with gr.Blocks() as tab_files:\n",
    "    with gr.Row():\n",
    "        with gr.Column():\n",
    "            file_output = gr.File()\n",
    "            upload_button = gr.UploadButton(\"Click to Upload Reference File\", file_types=[\"files\"])\n",
    "            upload_button.upload(upload_file, upload_button, file_output)\n",
    "        with gr.Column():\n",
    "            file_output = gr.File()\n",
    "            upload_button = gr.UploadButton(\"Click to Upload Template File\", file_types=[\"files\"])\n",
    "            upload_button.upload(upload_file, upload_button, file_output)\n",
    "            \n",
    "    \n",
    "demo = gr.TabbedInterface([tab_files, tab_search], [\"Upload Files\", \"Search\"])\n",
    "\n",
    "demo.launch(share=True)"
   ]
  }
 ],
 "metadata": {
  "kernelspec": {
   "display_name": "Python 3 (ipykernel)",
   "language": "python",
   "name": "python3"
  },
  "language_info": {
   "codemirror_mode": {
    "name": "ipython",
    "version": 3
   },
   "file_extension": ".py",
   "mimetype": "text/x-python",
   "name": "python",
   "nbconvert_exporter": "python",
   "pygments_lexer": "ipython3",
   "version": "3.11.5"
  }
 },
 "nbformat": 4,
 "nbformat_minor": 5
}
