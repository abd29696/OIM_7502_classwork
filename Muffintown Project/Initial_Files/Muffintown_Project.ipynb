{
 "cells": [
  {
   "cell_type": "code",
   "execution_count": 11,
   "id": "e5f743d0",
   "metadata": {},
   "outputs": [],
   "source": [
    "import gradio as gr\n",
    "import pandas as pd\n",
    "import numpy as np\n",
    "import matplotlib.pyplot as plt\n",
    "from pathlib import Path"
   ]
  },
  {
   "cell_type": "code",
   "execution_count": 19,
   "id": "7a48b348",
   "metadata": {},
   "outputs": [
    {
     "name": "stdout",
     "output_type": "stream",
     "text": [
      "Running on local URL:  http://127.0.0.1:7895\n",
      "Running on public URL: https://699455bcbcb2308306.gradio.live\n",
      "\n",
      "This share link expires in 72 hours. For free permanent hosting and GPU upgrades, run `gradio deploy` from Terminal to deploy to Spaces (https://huggingface.co/spaces)\n"
     ]
    },
    {
     "data": {
      "text/html": [
       "<div><iframe src=\"https://699455bcbcb2308306.gradio.live\" width=\"100%\" height=\"500\" allow=\"autoplay; camera; microphone; clipboard-read; clipboard-write;\" frameborder=\"0\" allowfullscreen></iframe></div>"
      ],
      "text/plain": [
       "<IPython.core.display.HTML object>"
      ]
     },
     "metadata": {},
     "output_type": "display_data"
    },
    {
     "data": {
      "text/plain": []
     },
     "execution_count": 19,
     "metadata": {},
     "output_type": "execute_result"
    },
    {
     "name": "stderr",
     "output_type": "stream",
     "text": [
      "/Users/abdurrahman/anaconda3/lib/python3.11/site-packages/openpyxl/worksheet/_read_only.py:79: UserWarning: Data Validation extension is not supported and will be removed\n",
      "  for idx, row in parser.parse():\n"
     ]
    },
    {
     "name": "stdout",
     "output_type": "stream",
     "text": [
      "2167 Muffin, WG, Choc Chip, IW\n"
     ]
    }
   ],
   "source": [
    "def search_data(sku, group_name, date):\n",
    "    \n",
    "    \n",
    "    if(sku == '' and group_name == '' and date != ''):\n",
    "        filtered_df = initial_df[initial_df['Date'] == date]\n",
    "    \n",
    "    elif(sku == '' and group_name != '' and date == ''):\n",
    "        filtered_df = initial_df[initial_df['Group Name'] == group_name]\n",
    "        \n",
    "    elif(sku != '' and group_name == '' and date == ''):\n",
    "        filtered_df = initial_df[initial_df['Current Job'] == sku]\n",
    "    \n",
    "    elif(sku == '' and group_name != '' and date != ''):\n",
    "        filtered_df = initial_df[(initial_df['Group Name'] == group_name) & (initial_df['Date'] == date)]\n",
    "        \n",
    "    elif(sku != '' and group_name == '' and date != ''):\n",
    "        filtered_df = initial_df[(initial_df['Current Job'] == sku) & (initial_df['Date'] == date)]\n",
    "        \n",
    "    elif(sku != '' and group_name != '' and date == ''):\n",
    "        filtered_df = initial_df[(initial_df['Current Job'] == sku) & (initial_df['Group Name'] == group_name)]\n",
    "    \n",
    "    else:\n",
    "        filtered_df = initial_df[(initial_df['Current Job'] == sku) & (initial_df['Group Name'] == group_name) & (initial_df['Date'] == date)]\n",
    "    \n",
    "    \n",
    "    records = len(filtered_df)\n",
    "    \n",
    "    compliant_records = len(filtered_df[(filtered_df['Units Per Hour'] >= filtered_df['Lower Target']) & (filtered_df['Units Per Hour'] <= filtered_df['Upper Target'])])\n",
    "    \n",
    "    compliance_percentage = round((compliant_records / records),2) * 100 if records != 0 else 0\n",
    "    \n",
    "    avg_units_per_hour = round(filtered_df['Units Per Hour'].mean(),2)\n",
    "    \n",
    "    stdev_units_per_hour = round(filtered_df['Units Per Hour'].std(),2)\n",
    "    \n",
    "    most_common_value = filtered_df['Description'].value_counts().idxmax()\n",
    "\n",
    "    print(most_common_value)\n",
    "    \n",
    "    fig1 = plt.figure()\n",
    "    plt.hist(filtered_df['Units Per Hour'], bins=20, color='skyblue', edgecolor='black')\n",
    "    plt.xlabel('Units Per Hour')\n",
    "    plt.ylabel('Frequency')\n",
    "    plt.grid(True)\n",
    "    \n",
    "    return most_common_value, records, compliance_percentage, avg_units_per_hour, stdev_units_per_hour, fig1\n",
    "\n",
    "\n",
    "\n",
    "\n",
    "def upload_file(filepath):\n",
    "    global initial_df\n",
    "    name = Path(filepath).name\n",
    "    initial_df = prepare_df(filepath)\n",
    "    initial_analysis_output = initial_analysis(initial_df)\n",
    "    return initial_analysis_output\n",
    "\n",
    "def initial_analysis(df):\n",
    "    \n",
    "    compliant_df = df[(df['Units Per Hour'] >= df['Lower Target']) & (df['Units Per Hour'] <= df['Upper Target'])]\n",
    "    non_compliant_df = df[(df['Units Per Hour'] < df['Lower Target']) | (df['Units Per Hour'] > df['Upper Target'])]\n",
    "\n",
    "    total_observations = len(df)\n",
    "    pct_compliant = 100 * round(len(compliant_df)/total_observations,2)\n",
    "    pct_non_compliant = 100 * round(len(non_compliant_df)/total_observations,2)\n",
    "    \n",
    "    return total_observations, pct_compliant, pct_non_compliant\n",
    "\n",
    "def prepare_df(file_path):\n",
    "\n",
    "    df = pd.read_excel(file_path)\n",
    "    \n",
    "    df['Current Job'] = df['Current Job'].astype(str)\n",
    "\n",
    "    df['Start of Batch Date/Time'] = pd.to_datetime(df['Start of Batch Date/Time'])\n",
    "    df['End of Batch Date/Time'] = pd.to_datetime(df['End of Batch Date/Time'])\n",
    "\n",
    "    df['Batch Length (Hours)'] = (df['End of Batch Date/Time'] - df['Start of Batch Date/Time']).dt.total_seconds() / 3600\n",
    "\n",
    "    df['Units Per Hour'] = df['Batch Count'] / df['Batch Length (Hours)']\n",
    "\n",
    "    df.dropna(subset=['Optimal Cases Per Hour'], inplace=True)\n",
    "\n",
    "    return df\n",
    "\n",
    "\n",
    "tab_search_by_sku = gr.Interface(\n",
    "    fn = search_data,\n",
    "    inputs = [\n",
    "        gr.Textbox(label=\"SKU\"), \n",
    "        gr.Textbox(label=\"Group Name\"),\n",
    "        gr.Textbox(label=\"Date\", info = \"yyyy-mm-dd\"), \n",
    "    ],\n",
    "    outputs = [\n",
    "        gr.Textbox(label=\"Description\"),\n",
    "        gr.Textbox(label=\"Records\"), \n",
    "        gr.Textbox(label=\"Compliance %\"),\n",
    "        gr.Textbox(label=\"Avg Units/Hr\"), \n",
    "        gr.Textbox(label=\"Std Dev Units/Hr\"), \n",
    "        gr.Plot(label=\"Units Per Hour Distribution\")\n",
    "    ],\n",
    "    allow_flagging = \"never\"\n",
    ")\n",
    "\n",
    "tab_files = gr.Interface(\n",
    "    fn = upload_file,\n",
    "    inputs = [\n",
    "        gr.File(label=\"Upload Template File\", file_types=[\".xlsx\"], file_count=\"single\")\n",
    "    ],\n",
    "    outputs = [\n",
    "        gr.Textbox(label=\"Total Observations\", interactive=False), \n",
    "        gr.Textbox(label=\"Compliant Observations %\", interactive=False),\n",
    "        gr.Textbox(label=\"Non-Compliant Observations %\", interactive=False)\n",
    "    ],\n",
    "    allow_flagging = \"never\"\n",
    "    \n",
    ")\n",
    "\n",
    "# tab_files = gr.Interface(\n",
    "#     fn = upload_file,\n",
    "#     inputs = [\n",
    "#         gr.UploadButton(\"Click to Upload Template File\", file_types=[\"files\"], file_count=\"single\")\n",
    "#     ],\n",
    "#     outputs = [\n",
    "#         gr.Textbox(label=\"Total Observations\", interactive=False), \n",
    "#         gr.Textbox(label=\"Compliant Observations %\", interactive=False),\n",
    "#         gr.Textbox(label=\"Non-Compliant Observations %\", interactive=False)\n",
    "#     ],\n",
    "#     allow_flagging = \"never\"\n",
    "    \n",
    "# )\n",
    "    \n",
    "demo = gr.TabbedInterface([tab_files, tab_search_by_sku], [\"Upload Sheet\", \"Search\"])\n",
    "\n",
    "demo.launch(share=True, auth=(\"BrianA\", \"Brian@Muffintown1\"))\n"
   ]
  },
  {
   "cell_type": "code",
   "execution_count": null,
   "id": "17dd1408",
   "metadata": {},
   "outputs": [],
   "source": []
  }
 ],
 "metadata": {
  "kernelspec": {
   "display_name": "Python 3 (ipykernel)",
   "language": "python",
   "name": "python3"
  },
  "language_info": {
   "codemirror_mode": {
    "name": "ipython",
    "version": 3
   },
   "file_extension": ".py",
   "mimetype": "text/x-python",
   "name": "python",
   "nbconvert_exporter": "python",
   "pygments_lexer": "ipython3",
   "version": "3.11.5"
  }
 },
 "nbformat": 4,
 "nbformat_minor": 5
}
