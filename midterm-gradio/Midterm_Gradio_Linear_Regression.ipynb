{
 "cells": [
  {
   "cell_type": "markdown",
   "id": "3275dcd6",
   "metadata": {},
   "source": [
    "Name: Abdur Rahman and Prithvi Raj Allada Library: gradio URL: https://www.gradio.app/docs/interface Description:Gradio is an open-source Python package that allows you to quickly build a demo or web application for your machine learning model, API, or any arbitary Python function. You can then share a link to your demo or web application in just a few seconds using Gradio’s built-in sharing features."
   ]
  },
  {
   "cell_type": "code",
   "execution_count": null,
   "id": "acedcdf9",
   "metadata": {},
   "outputs": [],
   "source": [
    "pip install --upgrade gradio\n"
   ]
  },
  {
   "cell_type": "code",
   "execution_count": null,
   "id": "950e036a",
   "metadata": {},
   "outputs": [],
   "source": [
    "import gradio as gr\n"
   ]
  },
  {
   "cell_type": "code",
   "execution_count": 1,
   "id": "b8de5130",
   "metadata": {},
   "outputs": [
    {
     "name": "stdout",
     "output_type": "stream",
     "text": [
      "Accuracy score :  0.9529481969048356 \n",
      "\n"
     ]
    }
   ],
   "source": [
    "\n",
    "\n",
    "import pandas as pd\n",
    "import numpy as np\n",
    "from sklearn.linear_model import LinearRegression\n",
    "from sklearn.metrics import accuracy_score\n",
    "\n",
    "#load the dataset to pandas dataframe\n",
    "URL = \"http://bit.ly/w-data\"\n",
    "student_data = pd.read_csv(URL)\n",
    "\n",
    "#Prepare data\n",
    "X = student_data.copy()\n",
    "y = student_data['Scores']\n",
    "del X['Scores']\n",
    "\n",
    "#create a machine learning model and train it\n",
    "lineareg = LinearRegression()\n",
    "lineareg.fit(X,y)\n",
    "print('Accuracy score : ',lineareg.score(X,y),'\\n')\n",
    "\n",
    "#now the model has been trained well let test it\n",
    "\n",
    "\n",
    "     \n"
   ]
  },
  {
   "cell_type": "code",
   "execution_count": 2,
   "id": "22271d19",
   "metadata": {},
   "outputs": [
    {
     "name": "stdout",
     "output_type": "stream",
     "text": [
      "Running on local URL:  http://127.0.0.1:7868\n",
      "\n",
      "To create a public link, set `share=True` in `launch()`.\n"
     ]
    },
    {
     "data": {
      "text/html": [
       "<div><iframe src=\"http://127.0.0.1:7868/\" width=\"100%\" height=\"500\" allow=\"autoplay; camera; microphone; clipboard-read; clipboard-write;\" frameborder=\"0\" allowfullscreen></iframe></div>"
      ],
      "text/plain": [
       "<IPython.core.display.HTML object>"
      ]
     },
     "metadata": {},
     "output_type": "display_data"
    },
    {
     "name": "stderr",
     "output_type": "stream",
     "text": [
      "/Users/abdurrahman/anaconda3/lib/python3.11/site-packages/sklearn/base.py:464: UserWarning: X does not have valid feature names, but LinearRegression was fitted with feature names\n",
      "  warnings.warn(\n",
      "/Users/abdurrahman/anaconda3/lib/python3.11/site-packages/sklearn/base.py:464: UserWarning: X does not have valid feature names, but LinearRegression was fitted with feature names\n",
      "  warnings.warn(\n",
      "/Users/abdurrahman/anaconda3/lib/python3.11/site-packages/sklearn/base.py:464: UserWarning: X does not have valid feature names, but LinearRegression was fitted with feature names\n",
      "  warnings.warn(\n",
      "/Users/abdurrahman/anaconda3/lib/python3.11/site-packages/sklearn/base.py:464: UserWarning: X does not have valid feature names, but LinearRegression was fitted with feature names\n",
      "  warnings.warn(\n"
     ]
    }
   ],
   "source": [
    "\n",
    "\n",
    "\n",
    "import gradio as gr\n",
    "import numpy as np\n",
    "\n",
    "\n",
    "\n",
    "\n",
    "def predict_score(hours):\n",
    "    hours = np.array([hours])  # Ensuring it's in the correct shape as a 2D array\n",
    "    pred_score = lineareg.predict(hours.reshape(-1,1))  # Prediction\n",
    "    return np.round(pred_score[0], 2)\n",
    "\n",
    "input_component = gr.Number(label='Number of Hours Studied')\n",
    "output_component = gr.Textbox(label='Predicted Score')\n",
    "\n",
    "gr.Interface(fn=predict_score,\n",
    "             inputs=input_component,\n",
    "             outputs=output_component,\n",
    "             live=True).launch();\n",
    "\n",
    "     \n"
   ]
  },
  {
   "cell_type": "code",
   "execution_count": null,
   "id": "0f9d84af",
   "metadata": {},
   "outputs": [],
   "source": []
  },
  {
   "cell_type": "code",
   "execution_count": null,
   "id": "2a0e1c2d",
   "metadata": {},
   "outputs": [],
   "source": []
  },
  {
   "cell_type": "code",
   "execution_count": null,
   "id": "1bec8ce5",
   "metadata": {},
   "outputs": [],
   "source": []
  }
 ],
 "metadata": {
  "kernelspec": {
   "display_name": "Python 3 (ipykernel)",
   "language": "python",
   "name": "python3"
  },
  "language_info": {
   "codemirror_mode": {
    "name": "ipython",
    "version": 3
   },
   "file_extension": ".py",
   "mimetype": "text/x-python",
   "name": "python",
   "nbconvert_exporter": "python",
   "pygments_lexer": "ipython3",
   "version": "3.11.5"
  }
 },
 "nbformat": 4,
 "nbformat_minor": 5
}
