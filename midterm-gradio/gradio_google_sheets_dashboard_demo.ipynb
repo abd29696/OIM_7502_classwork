{
 "cells": [
  {
   "cell_type": "markdown",
   "id": "328ed624",
   "metadata": {},
   "source": [
    "Name: Abdur Rahman and Prithvi Raj Allada\n",
    "Library: gradio\n",
    "URL: https://www.gradio.app/docs/interface\n",
    "Description:Gradio is an open-source Python package that allows you to quickly build a demo or web application for your machine learning model, API, or any arbitary Python function. You can then share a link to your demo or web application in just a few seconds using Gradio’s built-in sharing features."
   ]
  },
  {
   "cell_type": "code",
   "execution_count": 35,
   "id": "5e664f64",
   "metadata": {},
   "outputs": [
    {
     "name": "stdout",
     "output_type": "stream",
     "text": [
      "Running on local URL:  http://127.0.0.1:7899\n",
      "Running on public URL: https://5416329c9a692932c0.gradio.live\n",
      "\n",
      "This share link expires in 72 hours. For free permanent hosting and GPU upgrades, run `gradio deploy` from Terminal to deploy to Spaces (https://huggingface.co/spaces)\n"
     ]
    },
    {
     "data": {
      "text/html": [
       "<div><iframe src=\"https://5416329c9a692932c0.gradio.live\" width=\"100%\" height=\"500\" allow=\"autoplay; camera; microphone; clipboard-read; clipboard-write;\" frameborder=\"0\" allowfullscreen></iframe></div>"
      ],
      "text/plain": [
       "<IPython.core.display.HTML object>"
      ]
     },
     "metadata": {},
     "output_type": "display_data"
    },
    {
     "data": {
      "text/plain": []
     },
     "execution_count": 35,
     "metadata": {},
     "output_type": "execute_result"
    }
   ],
   "source": [
    "import pandas as pd \n",
    "import gradio as gr\n",
    "\n",
    "url = 'https://docs.google.com/spreadsheets/d/1UoKzzRzOCt-FXLLqDKLbryEKEgllGAQUEJ5qtmmQwpU/edit#gid=0'\n",
    "csv_url = url.replace('edit#gid=', 'export?format=csv&gid=')\n",
    "\n",
    "\n",
    "def get_data():\n",
    "    return pd.read_csv(csv_url)\n",
    "\n",
    "with gr.Blocks() as demo:\n",
    "    gr.Markdown(\"Real-Time Line Plot with Google Sheets\")\n",
    "    with gr.Row():\n",
    "        with gr.Column():\n",
    "            gr.DataFrame(get_data, every=5)\n",
    "        with gr.Column():\n",
    "            gr.LinePlot(get_data, every=5, x=\"Date\", y=\"Sales\", y_title=\"Sales ($ millions)\", overlay_point=True, width=500, height=500)\n",
    "\n",
    "demo.launch(share='True')\n"
   ]
  },
  {
   "cell_type": "code",
   "execution_count": null,
   "id": "5586ae4c",
   "metadata": {},
   "outputs": [],
   "source": []
  }
 ],
 "metadata": {
  "kernelspec": {
   "display_name": "Python 3 (ipykernel)",
   "language": "python",
   "name": "python3"
  },
  "language_info": {
   "codemirror_mode": {
    "name": "ipython",
    "version": 3
   },
   "file_extension": ".py",
   "mimetype": "text/x-python",
   "name": "python",
   "nbconvert_exporter": "python",
   "pygments_lexer": "ipython3",
   "version": "3.11.5"
  }
 },
 "nbformat": 4,
 "nbformat_minor": 5
}
