{
 "cells": [
  {
   "cell_type": "markdown",
   "id": "3275dcd6",
   "metadata": {},
   "source": [
    "Name: Abdur Rahman and Prithvi Raj Allada Library: gradio URL: https://www.gradio.app/docs/interface Description:Gradio is an open-source Python package that allows you to quickly build a demo or web application for your machine learning model, API, or any arbitary Python function. You can then share a link to your demo or web application in just a few seconds using Gradio’s built-in sharing features."
   ]
  },
  {
   "cell_type": "code",
   "execution_count": 25,
   "id": "acedcdf9",
   "metadata": {},
   "outputs": [
    {
     "name": "stdout",
     "output_type": "stream",
     "text": [
      "Requirement already satisfied: gradio in /Users/prithvi/opt/anaconda3/lib/python3.9/site-packages (3.50.0)\n",
      "Collecting gradio\n",
      "  Using cached gradio-4.21.0-py3-none-any.whl (17.0 MB)\n",
      "Requirement already satisfied: markupsafe~=2.0 in /Users/prithvi/opt/anaconda3/lib/python3.9/site-packages (from gradio) (2.0.1)\n",
      "Requirement already satisfied: uvicorn>=0.14.0 in /Users/prithvi/opt/anaconda3/lib/python3.9/site-packages (from gradio) (0.28.0)\n",
      "Requirement already satisfied: semantic-version~=2.0 in /Users/prithvi/opt/anaconda3/lib/python3.9/site-packages (from gradio) (2.10.0)\n",
      "Requirement already satisfied: pillow<11.0,>=8.0 in /Users/prithvi/opt/anaconda3/lib/python3.9/site-packages (from gradio) (9.2.0)\n",
      "Requirement already satisfied: numpy~=1.0 in /Users/prithvi/opt/anaconda3/lib/python3.9/site-packages (from gradio) (1.21.5)\n",
      "Requirement already satisfied: typer[all]<1.0,>=0.9 in /Users/prithvi/opt/anaconda3/lib/python3.9/site-packages (from gradio) (0.9.0)\n",
      "Requirement already satisfied: aiofiles<24.0,>=22.0 in /Users/prithvi/opt/anaconda3/lib/python3.9/site-packages (from gradio) (23.2.1)\n",
      "Requirement already satisfied: ruff>=0.2.2 in /Users/prithvi/opt/anaconda3/lib/python3.9/site-packages (from gradio) (0.3.3)\n",
      "Requirement already satisfied: matplotlib~=3.0 in /Users/prithvi/opt/anaconda3/lib/python3.9/site-packages (from gradio) (3.5.2)\n",
      "Requirement already satisfied: pandas<3.0,>=1.0 in /Users/prithvi/opt/anaconda3/lib/python3.9/site-packages (from gradio) (1.4.4)\n",
      "Requirement already satisfied: ffmpy in /Users/prithvi/opt/anaconda3/lib/python3.9/site-packages (from gradio) (0.3.2)\n",
      "Requirement already satisfied: altair<6.0,>=4.2.0 in /Users/prithvi/opt/anaconda3/lib/python3.9/site-packages (from gradio) (5.2.0)\n",
      "Requirement already satisfied: python-multipart>=0.0.9 in /Users/prithvi/opt/anaconda3/lib/python3.9/site-packages (from gradio) (0.0.9)\n",
      "Requirement already satisfied: huggingface-hub>=0.19.3 in /Users/prithvi/opt/anaconda3/lib/python3.9/site-packages (from gradio) (0.21.4)\n",
      "Collecting gradio-client==0.12.0\n",
      "  Using cached gradio_client-0.12.0-py3-none-any.whl (310 kB)\n",
      "Requirement already satisfied: packaging in /Users/prithvi/opt/anaconda3/lib/python3.9/site-packages (from gradio) (21.3)\n",
      "Requirement already satisfied: pydantic>=2.0 in /Users/prithvi/opt/anaconda3/lib/python3.9/site-packages (from gradio) (2.6.4)\n",
      "Requirement already satisfied: tomlkit==0.12.0 in /Users/prithvi/opt/anaconda3/lib/python3.9/site-packages (from gradio) (0.12.0)\n",
      "Requirement already satisfied: pyyaml<7.0,>=5.0 in /Users/prithvi/opt/anaconda3/lib/python3.9/site-packages (from gradio) (6.0)\n",
      "Requirement already satisfied: importlib-resources<7.0,>=1.3 in /Users/prithvi/opt/anaconda3/lib/python3.9/site-packages (from gradio) (6.3.1)\n",
      "Requirement already satisfied: pydub in /Users/prithvi/opt/anaconda3/lib/python3.9/site-packages (from gradio) (0.25.1)\n",
      "Requirement already satisfied: typing-extensions~=4.0 in /Users/prithvi/opt/anaconda3/lib/python3.9/site-packages (from gradio) (4.10.0)\n",
      "Requirement already satisfied: fastapi in /Users/prithvi/opt/anaconda3/lib/python3.9/site-packages (from gradio) (0.110.0)\n",
      "Requirement already satisfied: jinja2<4.0 in /Users/prithvi/opt/anaconda3/lib/python3.9/site-packages (from gradio) (2.11.3)\n",
      "Requirement already satisfied: httpx>=0.24.1 in /Users/prithvi/opt/anaconda3/lib/python3.9/site-packages (from gradio) (0.27.0)\n",
      "Requirement already satisfied: orjson~=3.0 in /Users/prithvi/opt/anaconda3/lib/python3.9/site-packages (from gradio) (3.9.15)\n",
      "Requirement already satisfied: fsspec in /Users/prithvi/opt/anaconda3/lib/python3.9/site-packages (from gradio-client==0.12.0->gradio) (2024.3.0)\n",
      "Requirement already satisfied: websockets<12.0,>=10.0 in /Users/prithvi/opt/anaconda3/lib/python3.9/site-packages (from gradio-client==0.12.0->gradio) (11.0.3)\n",
      "Requirement already satisfied: toolz in /Users/prithvi/opt/anaconda3/lib/python3.9/site-packages (from altair<6.0,>=4.2.0->gradio) (0.11.2)\n",
      "Requirement already satisfied: jsonschema>=3.0 in /Users/prithvi/opt/anaconda3/lib/python3.9/site-packages (from altair<6.0,>=4.2.0->gradio) (4.16.0)\n",
      "Requirement already satisfied: anyio in /Users/prithvi/opt/anaconda3/lib/python3.9/site-packages (from httpx>=0.24.1->gradio) (3.5.0)\n",
      "Requirement already satisfied: idna in /Users/prithvi/opt/anaconda3/lib/python3.9/site-packages (from httpx>=0.24.1->gradio) (3.3)\n",
      "Requirement already satisfied: sniffio in /Users/prithvi/opt/anaconda3/lib/python3.9/site-packages (from httpx>=0.24.1->gradio) (1.2.0)\n",
      "Requirement already satisfied: certifi in /Users/prithvi/opt/anaconda3/lib/python3.9/site-packages (from httpx>=0.24.1->gradio) (2022.9.24)\n",
      "Requirement already satisfied: httpcore==1.* in /Users/prithvi/opt/anaconda3/lib/python3.9/site-packages (from httpx>=0.24.1->gradio) (1.0.4)\n",
      "Requirement already satisfied: h11<0.15,>=0.13 in /Users/prithvi/opt/anaconda3/lib/python3.9/site-packages (from httpcore==1.*->httpx>=0.24.1->gradio) (0.14.0)\n",
      "Requirement already satisfied: requests in /Users/prithvi/opt/anaconda3/lib/python3.9/site-packages (from huggingface-hub>=0.19.3->gradio) (2.31.0)\n",
      "Requirement already satisfied: tqdm>=4.42.1 in /Users/prithvi/opt/anaconda3/lib/python3.9/site-packages (from huggingface-hub>=0.19.3->gradio) (4.64.1)\n",
      "Requirement already satisfied: filelock in /Users/prithvi/opt/anaconda3/lib/python3.9/site-packages (from huggingface-hub>=0.19.3->gradio) (3.6.0)\n",
      "Requirement already satisfied: zipp>=3.1.0 in /Users/prithvi/opt/anaconda3/lib/python3.9/site-packages (from importlib-resources<7.0,>=1.3->gradio) (3.8.0)\n",
      "Requirement already satisfied: cycler>=0.10 in /Users/prithvi/opt/anaconda3/lib/python3.9/site-packages (from matplotlib~=3.0->gradio) (0.11.0)\n",
      "Requirement already satisfied: fonttools>=4.22.0 in /Users/prithvi/opt/anaconda3/lib/python3.9/site-packages (from matplotlib~=3.0->gradio) (4.25.0)\n",
      "Requirement already satisfied: python-dateutil>=2.7 in /Users/prithvi/opt/anaconda3/lib/python3.9/site-packages (from matplotlib~=3.0->gradio) (2.8.2)\n",
      "Requirement already satisfied: kiwisolver>=1.0.1 in /Users/prithvi/opt/anaconda3/lib/python3.9/site-packages (from matplotlib~=3.0->gradio) (1.4.2)\n",
      "Requirement already satisfied: pyparsing>=2.2.1 in /Users/prithvi/opt/anaconda3/lib/python3.9/site-packages (from matplotlib~=3.0->gradio) (3.0.9)\n",
      "Requirement already satisfied: pytz>=2020.1 in /Users/prithvi/opt/anaconda3/lib/python3.9/site-packages (from pandas<3.0,>=1.0->gradio) (2023.4)\n",
      "Requirement already satisfied: annotated-types>=0.4.0 in /Users/prithvi/opt/anaconda3/lib/python3.9/site-packages (from pydantic>=2.0->gradio) (0.6.0)\n",
      "Requirement already satisfied: pydantic-core==2.16.3 in /Users/prithvi/opt/anaconda3/lib/python3.9/site-packages (from pydantic>=2.0->gradio) (2.16.3)\n",
      "Requirement already satisfied: click<9.0.0,>=7.1.1 in /Users/prithvi/opt/anaconda3/lib/python3.9/site-packages (from typer[all]<1.0,>=0.9->gradio) (8.0.4)\n",
      "Requirement already satisfied: rich<14.0.0,>=10.11.0 in /Users/prithvi/opt/anaconda3/lib/python3.9/site-packages (from typer[all]<1.0,>=0.9->gradio) (13.7.1)\n",
      "Requirement already satisfied: colorama<0.5.0,>=0.4.3 in /Users/prithvi/opt/anaconda3/lib/python3.9/site-packages (from typer[all]<1.0,>=0.9->gradio) (0.4.5)\n",
      "Requirement already satisfied: shellingham<2.0.0,>=1.3.0 in /Users/prithvi/opt/anaconda3/lib/python3.9/site-packages (from typer[all]<1.0,>=0.9->gradio) (1.5.4)\n",
      "Requirement already satisfied: starlette<0.37.0,>=0.36.3 in /Users/prithvi/opt/anaconda3/lib/python3.9/site-packages (from fastapi->gradio) (0.36.3)\n",
      "Requirement already satisfied: attrs>=17.4.0 in /Users/prithvi/opt/anaconda3/lib/python3.9/site-packages (from jsonschema>=3.0->altair<6.0,>=4.2.0->gradio) (21.4.0)\n",
      "Requirement already satisfied: pyrsistent!=0.17.0,!=0.17.1,!=0.17.2,>=0.14.0 in /Users/prithvi/opt/anaconda3/lib/python3.9/site-packages (from jsonschema>=3.0->altair<6.0,>=4.2.0->gradio) (0.18.0)\n",
      "Requirement already satisfied: six>=1.5 in /Users/prithvi/opt/anaconda3/lib/python3.9/site-packages (from python-dateutil>=2.7->matplotlib~=3.0->gradio) (1.16.0)\n",
      "Requirement already satisfied: markdown-it-py>=2.2.0 in /Users/prithvi/opt/anaconda3/lib/python3.9/site-packages (from rich<14.0.0,>=10.11.0->typer[all]<1.0,>=0.9->gradio) (3.0.0)\n",
      "Requirement already satisfied: pygments<3.0.0,>=2.13.0 in /Users/prithvi/opt/anaconda3/lib/python3.9/site-packages (from rich<14.0.0,>=10.11.0->typer[all]<1.0,>=0.9->gradio) (2.17.2)\n"
     ]
    },
    {
     "name": "stdout",
     "output_type": "stream",
     "text": [
      "Requirement already satisfied: urllib3<3,>=1.21.1 in /Users/prithvi/opt/anaconda3/lib/python3.9/site-packages (from requests->huggingface-hub>=0.19.3->gradio) (1.26.11)\n",
      "Requirement already satisfied: charset-normalizer<4,>=2 in /Users/prithvi/opt/anaconda3/lib/python3.9/site-packages (from requests->huggingface-hub>=0.19.3->gradio) (2.0.4)\n",
      "Requirement already satisfied: mdurl~=0.1 in /Users/prithvi/opt/anaconda3/lib/python3.9/site-packages (from markdown-it-py>=2.2.0->rich<14.0.0,>=10.11.0->typer[all]<1.0,>=0.9->gradio) (0.1.2)\n",
      "Installing collected packages: gradio-client, gradio\n",
      "  Attempting uninstall: gradio-client\n",
      "    Found existing installation: gradio_client 0.6.1\n",
      "    Uninstalling gradio_client-0.6.1:\n",
      "      Successfully uninstalled gradio_client-0.6.1\n",
      "  Attempting uninstall: gradio\n",
      "    Found existing installation: gradio 3.50.0\n",
      "    Uninstalling gradio-3.50.0:\n",
      "      Successfully uninstalled gradio-3.50.0\n",
      "Successfully installed gradio-4.21.0 gradio-client-0.12.0\n",
      "Note: you may need to restart the kernel to use updated packages.\n"
     ]
    }
   ],
   "source": [
    "pip install --upgrade gradio\n"
   ]
  },
  {
   "cell_type": "code",
   "execution_count": 15,
   "id": "950e036a",
   "metadata": {},
   "outputs": [],
   "source": [
    "import gradio as gr\n"
   ]
  },
  {
   "cell_type": "code",
   "execution_count": 2,
   "id": "b8de5130",
   "metadata": {},
   "outputs": [
    {
     "name": "stdout",
     "output_type": "stream",
     "text": [
      "Accuracy score :  0.9529481969048356 \n",
      "\n"
     ]
    }
   ],
   "source": [
    "\n",
    "\n",
    "import pandas as pd\n",
    "import numpy as np\n",
    "from sklearn.linear_model import LinearRegression\n",
    "from sklearn.metrics import accuracy_score\n",
    "\n",
    "#load the dataset to pandas dataframe\n",
    "URL = \"http://bit.ly/w-data\"\n",
    "student_data = pd.read_csv(URL)\n",
    "\n",
    "#Prepare data\n",
    "X = student_data.copy()\n",
    "y = student_data['Scores']\n",
    "del X['Scores']\n",
    "\n",
    "#create a machine learning model and train it\n",
    "lineareg = LinearRegression()\n",
    "lineareg.fit(X,y)\n",
    "print('Accuracy score : ',lineareg.score(X,y),'\\n')\n",
    "\n",
    "#now the model has been trained well let test it\n",
    "\n",
    "\n",
    "     \n"
   ]
  },
  {
   "cell_type": "code",
   "execution_count": 3,
   "id": "22271d19",
   "metadata": {},
   "outputs": [
    {
     "name": "stdout",
     "output_type": "stream",
     "text": [
      "Running on local URL:  http://127.0.0.1:7902\n",
      "\n",
      "To create a public link, set `share=True` in `launch()`.\n"
     ]
    },
    {
     "data": {
      "text/html": [
       "<div><iframe src=\"http://127.0.0.1:7902/\" width=\"100%\" height=\"500\" allow=\"autoplay; camera; microphone; clipboard-read; clipboard-write;\" frameborder=\"0\" allowfullscreen></iframe></div>"
      ],
      "text/plain": [
       "<IPython.core.display.HTML object>"
      ]
     },
     "metadata": {},
     "output_type": "display_data"
    },
    {
     "name": "stderr",
     "output_type": "stream",
     "text": [
      "/Users/abdurrahman/anaconda3/lib/python3.11/site-packages/sklearn/base.py:464: UserWarning: X does not have valid feature names, but LinearRegression was fitted with feature names\n",
      "  warnings.warn(\n",
      "/Users/abdurrahman/anaconda3/lib/python3.11/site-packages/sklearn/base.py:464: UserWarning: X does not have valid feature names, but LinearRegression was fitted with feature names\n",
      "  warnings.warn(\n",
      "/Users/abdurrahman/anaconda3/lib/python3.11/site-packages/sklearn/base.py:464: UserWarning: X does not have valid feature names, but LinearRegression was fitted with feature names\n",
      "  warnings.warn(\n",
      "/Users/abdurrahman/anaconda3/lib/python3.11/site-packages/sklearn/base.py:464: UserWarning: X does not have valid feature names, but LinearRegression was fitted with feature names\n",
      "  warnings.warn(\n",
      "/Users/abdurrahman/anaconda3/lib/python3.11/site-packages/sklearn/base.py:464: UserWarning: X does not have valid feature names, but LinearRegression was fitted with feature names\n",
      "  warnings.warn(\n",
      "/Users/abdurrahman/anaconda3/lib/python3.11/site-packages/sklearn/base.py:464: UserWarning: X does not have valid feature names, but LinearRegression was fitted with feature names\n",
      "  warnings.warn(\n",
      "/Users/abdurrahman/anaconda3/lib/python3.11/site-packages/sklearn/base.py:464: UserWarning: X does not have valid feature names, but LinearRegression was fitted with feature names\n",
      "  warnings.warn(\n",
      "/Users/abdurrahman/anaconda3/lib/python3.11/site-packages/sklearn/base.py:464: UserWarning: X does not have valid feature names, but LinearRegression was fitted with feature names\n",
      "  warnings.warn(\n",
      "/Users/abdurrahman/anaconda3/lib/python3.11/site-packages/sklearn/base.py:464: UserWarning: X does not have valid feature names, but LinearRegression was fitted with feature names\n",
      "  warnings.warn(\n",
      "/Users/abdurrahman/anaconda3/lib/python3.11/site-packages/sklearn/base.py:464: UserWarning: X does not have valid feature names, but LinearRegression was fitted with feature names\n",
      "  warnings.warn(\n",
      "/Users/abdurrahman/anaconda3/lib/python3.11/site-packages/sklearn/base.py:464: UserWarning: X does not have valid feature names, but LinearRegression was fitted with feature names\n",
      "  warnings.warn(\n",
      "/Users/abdurrahman/anaconda3/lib/python3.11/site-packages/sklearn/base.py:464: UserWarning: X does not have valid feature names, but LinearRegression was fitted with feature names\n",
      "  warnings.warn(\n",
      "/Users/abdurrahman/anaconda3/lib/python3.11/site-packages/sklearn/base.py:464: UserWarning: X does not have valid feature names, but LinearRegression was fitted with feature names\n",
      "  warnings.warn(\n",
      "/Users/abdurrahman/anaconda3/lib/python3.11/site-packages/sklearn/base.py:464: UserWarning: X does not have valid feature names, but LinearRegression was fitted with feature names\n",
      "  warnings.warn(\n",
      "/Users/abdurrahman/anaconda3/lib/python3.11/site-packages/sklearn/base.py:464: UserWarning: X does not have valid feature names, but LinearRegression was fitted with feature names\n",
      "  warnings.warn(\n",
      "/Users/abdurrahman/anaconda3/lib/python3.11/site-packages/sklearn/base.py:464: UserWarning: X does not have valid feature names, but LinearRegression was fitted with feature names\n",
      "  warnings.warn(\n",
      "/Users/abdurrahman/anaconda3/lib/python3.11/site-packages/sklearn/base.py:464: UserWarning: X does not have valid feature names, but LinearRegression was fitted with feature names\n",
      "  warnings.warn(\n",
      "/Users/abdurrahman/anaconda3/lib/python3.11/site-packages/sklearn/base.py:464: UserWarning: X does not have valid feature names, but LinearRegression was fitted with feature names\n",
      "  warnings.warn(\n",
      "/Users/abdurrahman/anaconda3/lib/python3.11/site-packages/sklearn/base.py:464: UserWarning: X does not have valid feature names, but LinearRegression was fitted with feature names\n",
      "  warnings.warn(\n",
      "/Users/abdurrahman/anaconda3/lib/python3.11/site-packages/sklearn/base.py:464: UserWarning: X does not have valid feature names, but LinearRegression was fitted with feature names\n",
      "  warnings.warn(\n",
      "/Users/abdurrahman/anaconda3/lib/python3.11/site-packages/sklearn/base.py:464: UserWarning: X does not have valid feature names, but LinearRegression was fitted with feature names\n",
      "  warnings.warn(\n",
      "/Users/abdurrahman/anaconda3/lib/python3.11/site-packages/sklearn/base.py:464: UserWarning: X does not have valid feature names, but LinearRegression was fitted with feature names\n",
      "  warnings.warn(\n",
      "/Users/abdurrahman/anaconda3/lib/python3.11/site-packages/sklearn/base.py:464: UserWarning: X does not have valid feature names, but LinearRegression was fitted with feature names\n",
      "  warnings.warn(\n",
      "/Users/abdurrahman/anaconda3/lib/python3.11/site-packages/sklearn/base.py:464: UserWarning: X does not have valid feature names, but LinearRegression was fitted with feature names\n",
      "  warnings.warn(\n",
      "/Users/abdurrahman/anaconda3/lib/python3.11/site-packages/sklearn/base.py:464: UserWarning: X does not have valid feature names, but LinearRegression was fitted with feature names\n",
      "  warnings.warn(\n",
      "/Users/abdurrahman/anaconda3/lib/python3.11/site-packages/sklearn/base.py:464: UserWarning: X does not have valid feature names, but LinearRegression was fitted with feature names\n",
      "  warnings.warn(\n",
      "/Users/abdurrahman/anaconda3/lib/python3.11/site-packages/sklearn/base.py:464: UserWarning: X does not have valid feature names, but LinearRegression was fitted with feature names\n",
      "  warnings.warn(\n",
      "/Users/abdurrahman/anaconda3/lib/python3.11/site-packages/sklearn/base.py:464: UserWarning: X does not have valid feature names, but LinearRegression was fitted with feature names\n",
      "  warnings.warn(\n",
      "/Users/abdurrahman/anaconda3/lib/python3.11/site-packages/sklearn/base.py:464: UserWarning: X does not have valid feature names, but LinearRegression was fitted with feature names\n",
      "  warnings.warn(\n",
      "/Users/abdurrahman/anaconda3/lib/python3.11/site-packages/sklearn/base.py:464: UserWarning: X does not have valid feature names, but LinearRegression was fitted with feature names\n",
      "  warnings.warn(\n",
      "/Users/abdurrahman/anaconda3/lib/python3.11/site-packages/sklearn/base.py:464: UserWarning: X does not have valid feature names, but LinearRegression was fitted with feature names\n",
      "  warnings.warn(\n",
      "/Users/abdurrahman/anaconda3/lib/python3.11/site-packages/sklearn/base.py:464: UserWarning: X does not have valid feature names, but LinearRegression was fitted with feature names\n",
      "  warnings.warn(\n",
      "/Users/abdurrahman/anaconda3/lib/python3.11/site-packages/sklearn/base.py:464: UserWarning: X does not have valid feature names, but LinearRegression was fitted with feature names\n",
      "  warnings.warn(\n",
      "/Users/abdurrahman/anaconda3/lib/python3.11/site-packages/sklearn/base.py:464: UserWarning: X does not have valid feature names, but LinearRegression was fitted with feature names\n",
      "  warnings.warn(\n",
      "/Users/abdurrahman/anaconda3/lib/python3.11/site-packages/sklearn/base.py:464: UserWarning: X does not have valid feature names, but LinearRegression was fitted with feature names\n",
      "  warnings.warn(\n",
      "/Users/abdurrahman/anaconda3/lib/python3.11/site-packages/sklearn/base.py:464: UserWarning: X does not have valid feature names, but LinearRegression was fitted with feature names\n",
      "  warnings.warn(\n",
      "/Users/abdurrahman/anaconda3/lib/python3.11/site-packages/sklearn/base.py:464: UserWarning: X does not have valid feature names, but LinearRegression was fitted with feature names\n",
      "  warnings.warn(\n",
      "/Users/abdurrahman/anaconda3/lib/python3.11/site-packages/sklearn/base.py:464: UserWarning: X does not have valid feature names, but LinearRegression was fitted with feature names\n",
      "  warnings.warn(\n",
      "/Users/abdurrahman/anaconda3/lib/python3.11/site-packages/sklearn/base.py:464: UserWarning: X does not have valid feature names, but LinearRegression was fitted with feature names\n",
      "  warnings.warn(\n",
      "/Users/abdurrahman/anaconda3/lib/python3.11/site-packages/sklearn/base.py:464: UserWarning: X does not have valid feature names, but LinearRegression was fitted with feature names\n",
      "  warnings.warn(\n",
      "/Users/abdurrahman/anaconda3/lib/python3.11/site-packages/sklearn/base.py:464: UserWarning: X does not have valid feature names, but LinearRegression was fitted with feature names\n",
      "  warnings.warn(\n"
     ]
    }
   ],
   "source": [
    "\n",
    "\n",
    "\n",
    "import gradio as gr\n",
    "import numpy as np\n",
    "\n",
    "\n",
    "\n",
    "\n",
    "def predict_score(hours):\n",
    "    hours = np.array([hours])  # Ensuring it's in the correct shape as a 2D array\n",
    "    pred_score = lineareg.predict(hours.reshape(-1,1))  # Prediction\n",
    "    return np.round(pred_score[0], 2)\n",
    "\n",
    "input_component = gr.Number(label='Number of Hours Studied')\n",
    "output_component = gr.Textbox(label='Predicted Score')\n",
    "\n",
    "gr.Interface(fn=predict_score,\n",
    "             inputs=input_component,\n",
    "             outputs=output_component,\n",
    "             live=True).launch();\n",
    "\n",
    "     \n"
   ]
  },
  {
   "cell_type": "code",
   "execution_count": 27,
   "id": "0f9d84af",
   "metadata": {},
   "outputs": [
    {
     "name": "stderr",
     "output_type": "stream",
     "text": [
      "/Users/prithvi/opt/anaconda3/lib/python3.9/site-packages/sklearn/base.py:450: UserWarning: X does not have valid feature names, but LinearRegression was fitted with feature names\n",
      "  warnings.warn(\n"
     ]
    }
   ],
   "source": []
  },
  {
   "cell_type": "code",
   "execution_count": null,
   "id": "2a0e1c2d",
   "metadata": {},
   "outputs": [],
   "source": []
  },
  {
   "cell_type": "code",
   "execution_count": null,
   "id": "1bec8ce5",
   "metadata": {},
   "outputs": [],
   "source": []
  }
 ],
 "metadata": {
  "kernelspec": {
   "display_name": "Python 3 (ipykernel)",
   "language": "python",
   "name": "python3"
  },
  "language_info": {
   "codemirror_mode": {
    "name": "ipython",
    "version": 3
   },
   "file_extension": ".py",
   "mimetype": "text/x-python",
   "name": "python",
   "nbconvert_exporter": "python",
   "pygments_lexer": "ipython3",
   "version": "3.11.5"
  }
 },
 "nbformat": 4,
 "nbformat_minor": 5
}
