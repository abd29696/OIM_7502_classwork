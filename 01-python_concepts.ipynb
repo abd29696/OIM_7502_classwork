{
 "cells": [
  {
   "cell_type": "markdown",
   "id": "9383bafa",
   "metadata": {},
   "source": [
    "### Python Programming Concepts"
   ]
  },
  {
   "cell_type": "markdown",
   "id": "17df7d6e",
   "metadata": {},
   "source": [
    "#### 1. Create a variable to store the value 500 for sales"
   ]
  },
  {
   "cell_type": "code",
   "execution_count": 39,
   "id": "a5f43c2f",
   "metadata": {},
   "outputs": [
    {
     "name": "stdout",
     "output_type": "stream",
     "text": [
      "500\n"
     ]
    }
   ],
   "source": [
    "sales = 500\n",
    "print(sales)"
   ]
  },
  {
   "cell_type": "markdown",
   "id": "6dc8b9ea",
   "metadata": {},
   "source": [
    "#### 2. Create a variable to store several values:  \n",
    "* sales: 500, 475, 625\n",
    "* integers 1 - 9 "
   ]
  },
  {
   "cell_type": "code",
   "execution_count": 44,
   "id": "902fe3bd",
   "metadata": {},
   "outputs": [
    {
     "name": "stdout",
     "output_type": "stream",
     "text": [
      "[500, 475, 625]\n",
      "[1, 2, 3, 4, 5, 6, 7, 8, 9]\n"
     ]
    }
   ],
   "source": [
    "salesValue = [500, 475, 625]\n",
    "print(salesValue)\n",
    "\n",
    "integers = list(range(1,10))\n",
    "print(integers)"
   ]
  },
  {
   "cell_type": "markdown",
   "id": "62e55953",
   "metadata": {},
   "source": [
    "#### 3. Create a variable to store the names and email addresses for a number of customers\n",
    "* John, john@some.com; Ann, ann@some.com"
   ]
  },
  {
   "cell_type": "code",
   "execution_count": 62,
   "id": "03f2b161",
   "metadata": {},
   "outputs": [
    {
     "name": "stdout",
     "output_type": "stream",
     "text": [
      "[{'name': 'John', 'email': 'john@some.com'}, {'name': 'Ann', 'email': 'ann@some.com'}]\n"
     ]
    }
   ],
   "source": [
    "customers = [\n",
    "    {'name':'John', 'email':'john@some.com'}, \n",
    "    {'name':'Ann', 'email':'ann@some.com'}\n",
    "]\n",
    "print(customers)"
   ]
  },
  {
   "cell_type": "markdown",
   "id": "d6b1e8c6",
   "metadata": {},
   "source": [
    "#### 4. Use Python to generate a random value based on each of following:\n",
    "1. between 0 and 1\n",
    "2. the standard normal distribution (rounded to two decimal places)\n",
    "3. a value between 1 and 10\n",
    "4. either H or T"
   ]
  },
  {
   "cell_type": "code",
   "execution_count": 31,
   "id": "f004d7b5",
   "metadata": {},
   "outputs": [],
   "source": [
    "import random\n",
    "import numpy as np"
   ]
  },
  {
   "cell_type": "code",
   "execution_count": 59,
   "id": "a8efc6fc",
   "metadata": {},
   "outputs": [
    {
     "name": "stdout",
     "output_type": "stream",
     "text": [
      "0.999104088727309\n"
     ]
    }
   ],
   "source": [
    "print(random.random())"
   ]
  },
  {
   "cell_type": "code",
   "execution_count": 65,
   "id": "1a29e601",
   "metadata": {},
   "outputs": [
    {
     "name": "stdout",
     "output_type": "stream",
     "text": [
      "0.04\n"
     ]
    }
   ],
   "source": [
    "print(round(np.random.randn(),2))"
   ]
  },
  {
   "cell_type": "code",
   "execution_count": 27,
   "id": "3a150c3e",
   "metadata": {},
   "outputs": [
    {
     "name": "stdout",
     "output_type": "stream",
     "text": [
      "4\n"
     ]
    }
   ],
   "source": [
    "print(random.randint(1,10))"
   ]
  },
  {
   "cell_type": "code",
   "execution_count": 64,
   "id": "f80f4b3b",
   "metadata": {},
   "outputs": [
    {
     "name": "stdout",
     "output_type": "stream",
     "text": [
      "H\n"
     ]
    }
   ],
   "source": [
    "print(random.choice(['H','T']))"
   ]
  },
  {
   "cell_type": "code",
   "execution_count": 67,
   "id": "bdb52b86",
   "metadata": {},
   "outputs": [
    {
     "name": "stdout",
     "output_type": "stream",
     "text": [
      "THTTHHHTTH\n"
     ]
    }
   ],
   "source": [
    "flips = ''\n",
    "for flip in range(10):\n",
    "    flips += random.choice(['H','T'])\n",
    "print(flips)"
   ]
  },
  {
   "cell_type": "markdown",
   "id": "7eddf06a",
   "metadata": {},
   "source": [
    "#### 5. Use Python to determine your current working directory"
   ]
  },
  {
   "cell_type": "code",
   "execution_count": 14,
   "id": "d8f79474",
   "metadata": {},
   "outputs": [
    {
     "name": "stdout",
     "output_type": "stream",
     "text": [
      "/Users/abdurrahman/OIM_7502_classwork\n"
     ]
    }
   ],
   "source": [
    "import os\n",
    "cwd = os.getcwd()\n",
    "print(cwd)\n",
    "\n",
    "#os.listdir()\n",
    "#os.mkdir()\n"
   ]
  },
  {
   "cell_type": "markdown",
   "id": "fc43ec50",
   "metadata": {},
   "source": [
    "#### 6. Use Python to determine how many days until New Year's Day"
   ]
  },
  {
   "cell_type": "code",
   "execution_count": 36,
   "id": "13f630fe",
   "metadata": {},
   "outputs": [
    {
     "name": "stdout",
     "output_type": "stream",
     "text": [
      "350\n"
     ]
    }
   ],
   "source": [
    "from datetime import datetime, date \n",
    "\n",
    "currentDate = datetime.now().date()\n",
    "nextYear = date(currentDate.year + 1, 1, 1)\n",
    "newYear = (nextYear - currentDate).days\n",
    "print(newYear)"
   ]
  },
  {
   "cell_type": "markdown",
   "id": "2ba4ea92",
   "metadata": {},
   "source": [
    "#### 7. Write a short program that displays the future value of 1,000 earning 5%  at the end of each year for the next 5 years"
   ]
  },
  {
   "cell_type": "code",
   "execution_count": 37,
   "id": "6fef4a8c",
   "metadata": {},
   "outputs": [
    {
     "name": "stdout",
     "output_type": "stream",
     "text": [
      "1050.0\n",
      "1102.5\n",
      "1157.6250000000002\n",
      "1215.5062500000001\n",
      "1276.2815625000003\n"
     ]
    }
   ],
   "source": [
    "presentValue = 1000\n",
    "rate = 0.05\n",
    "\n",
    "for year in range(1,6):\n",
    "    futureValue = presentValue * ((1+rate) ** year)\n",
    "    print(futureValue)"
   ]
  },
  {
   "cell_type": "markdown",
   "id": "150201c8",
   "metadata": {},
   "source": [
    "#### 8. Write a short program that prompts a user to enter a stock symbol and press enter. Add each symbol entered to a variable. The program should run until the user presses the enter key without entering anything (empty string) "
   ]
  },
  {
   "cell_type": "code",
   "execution_count": 68,
   "id": "931a346f",
   "metadata": {},
   "outputs": [
    {
     "name": "stdout",
     "output_type": "stream",
     "text": [
      "Enter a stock symbol (or press enter to finish): ASD\n",
      "Enter a stock symbol (or press enter to finish): ASDF\n",
      "Enter a stock symbol (or press enter to finish): \n",
      "['ASD', 'ASDF']\n"
     ]
    }
   ],
   "source": [
    "stockSymbols = []\n",
    "\n",
    "while True:\n",
    "    symbol = input(\"Enter a stock symbol (or press enter to finish): \")\n",
    "\n",
    "    if symbol == \"\":\n",
    "        break\n",
    "\n",
    "    stockSymbols.append(symbol)\n",
    "\n",
    "print(stockSymbols)\n"
   ]
  },
  {
   "cell_type": "markdown",
   "id": "fc2a7592",
   "metadata": {},
   "source": [
    "#### 9. Write the code necessary to calculate the sum of the square differences of a group of values : \n",
    "58, 32, 37, 41, 36, 36, 54, 37, 25, 53\n",
    "##### $\\Sigma $(${x}$ - $\\bar{x}$)$^2$"
   ]
  },
  {
   "cell_type": "markdown",
   "id": "89a7db2f",
   "metadata": {},
   "source": []
  },
  {
   "cell_type": "markdown",
   "id": "6d6f2e64",
   "metadata": {},
   "source": [
    "#### 10. Opening, reading and writing files"
   ]
  },
  {
   "cell_type": "code",
   "execution_count": null,
   "id": "f7fa569d",
   "metadata": {},
   "outputs": [],
   "source": [
    "# Opening a file for writing\n",
    "with open('desolation_row.txt', 'r') as file:\n",
    "    file_contents = file.read()\n",
    "print(file_contents)\n"
   ]
  },
  {
   "cell_type": "markdown",
   "id": "eec548d6",
   "metadata": {},
   "source": [
    "#### 11. Create a function the will simulate rolling two die and return the value of each and and the sum "
   ]
  },
  {
   "cell_type": "code",
   "execution_count": 71,
   "id": "bb115cdc",
   "metadata": {},
   "outputs": [],
   "source": [
    "import random\n",
    "\n",
    "def roll_two_dice():\n",
    "    die1 = random.randint(1, 6)\n",
    "    die2 = random.randint(1, 6)\n",
    "    \n",
    "    sum_of_dice = die1 + die2\n",
    "    \n",
    "    return die1, die2, sum_of_dice"
   ]
  },
  {
   "cell_type": "markdown",
   "id": "21556d7f",
   "metadata": {},
   "source": [
    "#### 12. Write the code needed to evaluate whether a value in a group of values is negative or postive and prints an approriate message, i.e. postive, negative \n",
    "-1.59, 2.36, 1.69, 1.13, -0.91, 1.48, -0.34, 1.31, -0.74, 0.2"
   ]
  },
  {
   "cell_type": "code",
   "execution_count": 69,
   "id": "d6c38ecb",
   "metadata": {},
   "outputs": [
    {
     "name": "stdout",
     "output_type": "stream",
     "text": [
      "-1.59 is negative.\n",
      "2.36 is positive.\n",
      "1.69 is positive.\n",
      "1.13 is positive.\n",
      "-0.91 is negative.\n",
      "1.48 is positive.\n",
      "-0.34 is negative.\n",
      "1.31 is positive.\n",
      "-0.74 is negative.\n",
      "0.2 is positive.\n"
     ]
    }
   ],
   "source": [
    "def evaluate_numbers(values):\n",
    "    for value in values:\n",
    "        if value > 0:\n",
    "            print(f\"{value} is positive.\")\n",
    "        elif value < 0:\n",
    "            print(f\"{value} is negative.\")\n",
    "        else:\n",
    "            print(f\"{value} is neither positive nor negative (it's zero).\")\n",
    "\n",
    "numbers = [-1.59, 2.36, 1.69, 1.13, -0.91, 1.48, -0.34, 1.31, -0.74, 0.2]\n",
    "evaluate_numbers(numbers)"
   ]
  },
  {
   "cell_type": "code",
   "execution_count": null,
   "id": "aaefba17",
   "metadata": {},
   "outputs": [],
   "source": []
  },
  {
   "cell_type": "markdown",
   "id": "8cafe65c",
   "metadata": {},
   "source": [
    "#### 14.  Complete the following:\n",
    "1. Write a program that generates 500 random integers from 1 to n, for example, the first integer will be 1 the second will be 1 or 2, the fifth between 1 and 5, and so on.\n",
    "2. The program should write each integer to a file \n",
    "3. Once all integers are written close the file\n",
    "\n",
    "##### Part 2\n",
    "1. Open and read the file into a list\n",
    "2. Create a line plot of the data"
   ]
  },
  {
   "cell_type": "code",
   "execution_count": 72,
   "id": "60a910bb",
   "metadata": {},
   "outputs": [
    {
     "name": "stdout",
     "output_type": "stream",
     "text": [
      "[1, 1, 2, 1, 5, 1, 4, 3, 2, 5, 11, 1, 12, 8, 6, 5, 13, 16, 7, 7, 4, 4, 18, 14, 5, 8, 12, 14, 24, 26, 7, 28, 30, 7, 13, 23, 11, 19, 10, 1, 38, 1, 13, 16, 39, 13, 33, 42, 17, 24, 4, 39, 29, 16, 53, 36, 17, 6, 17, 33, 49, 54, 26, 11, 6, 40, 14, 56, 46, 26, 61, 63, 9, 20, 24, 51, 18, 12, 39, 41, 30, 65, 33, 81, 39, 4, 75, 63, 45, 33, 20, 6, 59, 73, 36, 9, 44, 29, 31, 69, 101, 62, 28, 82, 43, 19, 53, 86, 12, 25, 1, 88, 35, 44, 31, 44, 24, 86, 5, 12, 38, 41, 2, 123, 68, 39, 108, 79, 118, 52, 50, 122, 19, 9, 1, 65, 130, 85, 12, 100, 99, 113, 37, 25, 65, 64, 136, 86, 133, 1, 73, 127, 22, 72, 130, 81, 10, 107, 88, 106, 125, 85, 45, 39, 158, 44, 56, 110, 89, 138, 17, 155, 60, 3, 126, 66, 159, 100, 64, 109, 68, 53, 1, 12, 85, 153, 111, 117, 64, 171, 164, 93, 152, 99, 139, 183, 152, 42, 155, 129, 38, 144, 176, 29, 51, 31, 96, 160, 140, 172, 103, 109, 84, 38, 213, 169, 121, 34, 98, 169, 132, 13, 97, 165, 160, 2, 189, 42, 47, 136, 168, 141, 156, 55, 92, 84, 131, 109, 68, 194, 162, 189, 174, 212, 177, 85, 169, 37, 84, 198, 24, 132, 199, 63, 12, 182, 242, 187, 137, 129, 89, 125, 147, 197, 221, 202, 256, 244, 52, 96, 158, 14, 31, 236, 110, 117, 146, 14, 273, 157, 109, 197, 125, 5, 276, 17, 275, 166, 164, 254, 89, 77, 245, 272, 19, 101, 289, 7, 168, 286, 204, 51, 269, 71, 69, 154, 17, 98, 213, 75, 214, 191, 142, 197, 48, 108, 58, 107, 286, 103, 247, 244, 234, 167, 213, 298, 198, 35, 70, 128, 20, 296, 301, 291, 314, 274, 167, 79, 257, 309, 298, 295, 221, 50, 76, 217, 67, 86, 203, 152, 305, 277, 89, 43, 89, 15, 342, 36, 185, 311, 27, 65, 255, 39, 273, 324, 75, 13, 305, 352, 306, 74, 108, 367, 225, 148, 96, 288, 374, 179, 38, 316, 284, 335, 90, 218, 50, 20, 303, 256, 199, 108, 136, 132, 39, 160, 390, 384, 240, 45, 198, 327, 86, 292, 218, 102, 362, 121, 137, 286, 193, 113, 70, 23, 11, 271, 131, 417, 62, 388, 49, 417, 13, 12, 239, 79, 364, 244, 118, 298, 371, 397, 275, 286, 233, 38, 406, 18, 217, 152, 135, 433, 120, 301, 363, 29, 177, 446, 325, 157, 113, 110, 136, 82, 377, 12, 421, 38, 68, 97, 178, 9, 363, 49, 35, 14, 103, 237, 445, 150, 362, 91, 251, 458, 100, 27, 385, 309, 330, 311, 408, 54, 376, 450, 31, 460, 408, 475, 123, 105, 450, 252, 244, 18, 180, 256, 117, 368, 125, 287]\n"
     ]
    }
   ],
   "source": [
    "import random\n",
    "\n",
    "random_integers = [random.randint(1, i+1) for i in range(500)]\n",
    "\n",
    "file_name = \"random_integers.txt\"\n",
    "\n",
    "with open(file_name, 'w') as file:\n",
    "    for number in random_integers:\n",
    "        file.write(f\"{number}\\n\")"
   ]
  },
  {
   "cell_type": "code",
   "execution_count": null,
   "id": "d6b4180c",
   "metadata": {},
   "outputs": [],
   "source": [
    "file_name = \"random_integers.txt\"\n",
    "\n",
    "integer_list = []\n",
    "\n",
    "with open(file_name, 'r') as file:\n",
    "    for line in file:\n",
    "        integer_list.append(int(line.strip()))\n",
    "\n",
    "print(integer_list)"
   ]
  },
  {
   "cell_type": "code",
   "execution_count": 73,
   "id": "adb6aa11",
   "metadata": {},
   "outputs": [
    {
     "data": {
      "image/png": "[encoded data removed]",
      "text/plain": [
       "<Figure size 640x480 with 1 Axes>"
      ]
     },
     "metadata": {},
     "output_type": "display_data"
    }
   ],
   "source": [
    "import matplotlib.pyplot as plt\n",
    "\n",
    "plt.plot(integer_list)\n",
    "plt.title('Line Plot of Random Integers')\n",
    "plt.xlabel('Index')\n",
    "plt.ylabel('Random Integer Value')\n",
    "plt.grid(True)\n",
    "\n",
    "plt.show()"
   ]
  },
  {
   "cell_type": "code",
   "execution_count": null,
   "id": "6745da79",
   "metadata": {},
   "outputs": [],
   "source": [
    "\n"
   ]
  },
  {
   "cell_type": "code",
   "execution_count": null,
   "id": "21140445",
   "metadata": {},
   "outputs": [],
   "source": []
  },
  {
   "cell_type": "code",
   "execution_count": null,
   "id": "3d546600",
   "metadata": {},
   "outputs": [],
   "source": []
  }
 ],
 "metadata": {
  "kernelspec": {
   "display_name": "Python 3 (ipykernel)",
   "language": "python",
   "name": "python3"
  },
  "language_info": {
   "codemirror_mode": {
    "name": "ipython",
    "version": 3
   },
   "file_extension": ".py",
   "mimetype": "text/x-python",
   "name": "python",
   "nbconvert_exporter": "python",
   "pygments_lexer": "ipython3",
   "version": "3.11.5"
  }
 },
 "nbformat": 4,
 "nbformat_minor": 5
}
