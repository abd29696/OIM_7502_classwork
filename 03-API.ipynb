{
 "cells": [
  {
   "cell_type": "markdown",
   "id": "f9bd1c7f",
   "metadata": {},
   "source": [
    "# APIs\n",
    "* Most interactions consist of getting or posting data\n",
    "* Almost every interaction involves dat aexchange via JSON\n",
    "* Both activities require connecting via an endpoint\n",
    "* Most APIs require some form of registration to expose API key(s)\n",
    "* Many platforms have written convenience libraries for Python\n",
    "    * [Facebook](https://pypi.org/project/python-facebook-api/)\n",
    "    * [Spotify](https://pypi.org/search/?q=spotify)\n",
    "    * [Yahoo Finance](https://pypi.org/project/yfinance/)"
   ]
  },
  {
   "cell_type": "code",
   "execution_count": null,
   "id": "b4a5db0f",
   "metadata": {},
   "outputs": [],
   "source": [
    "requests --> handles endpoints\n",
    "json --> handles data\n"
   ]
  },
  {
   "cell_type": "code",
   "execution_count": 14,
   "id": "003d79ca",
   "metadata": {},
   "outputs": [],
   "source": [
    "import json\n",
    "import requests"
   ]
  },
  {
   "cell_type": "code",
   "execution_count": 21,
   "id": "d6816f69",
   "metadata": {},
   "outputs": [],
   "source": [
    "endpoint = \"https://dummyjson.com/posts\"\n",
    "req = requests.get(endpoint).json()\n"
   ]
  },
  {
   "cell_type": "code",
   "execution_count": 22,
   "id": "d736b4df",
   "metadata": {},
   "outputs": [
    {
     "data": {
      "text/plain": [
       "dict_keys(['posts', 'total', 'skip', 'limit'])"
      ]
     },
     "execution_count": 22,
     "metadata": {},
     "output_type": "execute_result"
    }
   ],
   "source": [
    "req.keys()"
   ]
  },
  {
   "cell_type": "code",
   "execution_count": 23,
   "id": "13b8a3c2",
   "metadata": {},
   "outputs": [
    {
     "ename": "AttributeError",
     "evalue": "'dict' object has no attribute 'text'",
     "output_type": "error",
     "traceback": [
      "\u001b[0;31m---------------------------------------------------------------------------\u001b[0m",
      "\u001b[0;31mAttributeError\u001b[0m                            Traceback (most recent call last)",
      "Cell \u001b[0;32mIn[23], line 2\u001b[0m\n\u001b[1;32m      1\u001b[0m \u001b[38;5;66;03m# display all posts\u001b[39;00m\n\u001b[0;32m----> 2\u001b[0m req\u001b[38;5;241m.\u001b[39mtext\n",
      "\u001b[0;31mAttributeError\u001b[0m: 'dict' object has no attribute 'text'"
     ]
    }
   ],
   "source": [
    "# display all posts\n",
    "req.text"
   ]
  },
  {
   "cell_type": "code",
   "execution_count": null,
   "id": "72412fc3",
   "metadata": {},
   "outputs": [],
   "source": [
    "# how many posts are there?\n"
   ]
  },
  {
   "cell_type": "code",
   "execution_count": null,
   "id": "585849c6",
   "metadata": {},
   "outputs": [],
   "source": [
    "# what is the first title?\n"
   ]
  },
  {
   "cell_type": "code",
   "execution_count": 24,
   "id": "422ca724",
   "metadata": {
    "scrolled": true
   },
   "outputs": [
    {
     "data": {
      "text/plain": [
       "dict_keys(['id', 'title', 'body', 'userId', 'tags', 'reactions'])"
      ]
     },
     "execution_count": 24,
     "metadata": {},
     "output_type": "execute_result"
    }
   ],
   "source": [
    "# print all post titles\n",
    "req['posts'][0].keys()\n"
   ]
  },
  {
   "cell_type": "code",
   "execution_count": 25,
   "id": "b6605887",
   "metadata": {},
   "outputs": [
    {
     "data": {
      "text/plain": [
       "'{\"posts\": [{\"id\": 1, \"title\": \"His mother had always taught him\", \"body\": \"His mother had always taught him not to ever think of himself as better than others. He\\'d tried to live by this motto. He never looked down on those who were less fortunate or who had less money than him. But the stupidity of the group of people he was talking to made him change his mind.\", \"userId\": 9, \"tags\": [\"history\", \"american\", \"crime\"], \"reactions\": 2}, {\"id\": 2, \"title\": \"He was an expert but not in a discipline\", \"body\": \"He was an expert but not in a discipline that anyone could fully appreciate. He knew how to hold the cone just right so that the soft server ice-cream fell into it at the precise angle to form a perfect cone each and every time. It had taken years to perfect and he could now do it without even putting any thought behind it.\", \"userId\": 13, \"tags\": [\"french\", \"fiction\", \"english\"], \"reactions\": 2}, {\"id\": 3, \"title\": \"Dave watched as the forest burned up on the hill.\", \"body\": \"Dave watched as the forest burned up on the hill, only a few miles from her house. The car had been hastily packed and Marta was inside trying to round up the last of the pets. Dave went through his mental list of the most important papers and documents that they couldn\\'t leave behind. He scolded himself for not having prepared these better in advance and hoped that he had remembered everything that was needed. He continued to wait for Marta to appear with the pets, but she still was nowhere to be seen.\", \"userId\": 32, \"tags\": [\"magical\", \"history\", \"french\"], \"reactions\": 5}, {\"id\": 4, \"title\": \"All he wanted was a candy bar.\", \"body\": \"All he wanted was a candy bar. It didn\\'t seem like a difficult request to comprehend, but the clerk remained frozen and didn\\'t seem to want to honor the request. It might have had something to do with the gun pointed at his face.\", \"userId\": 12, \"tags\": [\"mystery\", \"english\", \"american\"], \"reactions\": 1}, {\"id\": 5, \"title\": \"Hopes and dreams were dashed that day.\", \"body\": \"Hopes and dreams were dashed that day. It should have been expected, but it still came as a shock. The warning signs had been ignored in favor of the possibility, however remote, that it could actually happen. That possibility had grown from hope to an undeniable belief it must be destiny. That was until it wasn\\'t and the hopes and dreams came crashing down.\", \"userId\": 41, \"tags\": [\"crime\", \"mystery\", \"love\"], \"reactions\": 2}, {\"id\": 6, \"title\": \"Dave wasn\\'t exactly sure how he had ended up\", \"body\": \"Dave wasn\\'t exactly sure how he had ended up in this predicament. He ran through all the events that had lead to this current situation and it still didn\\'t make sense. He wanted to spend some time to try and make sense of it all, but he had higher priorities at the moment. The first was how to get out of his current situation of being naked in a tree with snow falling all around and no way for him to get down.\", \"userId\": 47, \"tags\": [\"english\", \"classic\", \"american\"], \"reactions\": 3}, {\"id\": 7, \"title\": \"This is important to remember.\", \"body\": \"This is important to remember. Love isn\\'t like pie. You don\\'t need to divide it among all your friends and loved ones. No matter how much love you give, you can always give more. It doesn\\'t run out, so don\\'t try to hold back giving it as if it may one day run out. Give it freely and as much as you want.\", \"userId\": 12, \"tags\": [\"magical\", \"crime\"], \"reactions\": 0}, {\"id\": 8, \"title\": \"One can cook on and with an open fire.\", \"body\": \"One can cook on and with an open fire. These are some of the ways to cook with fire outside. Cooking meat using a spit is a great way to evenly cook meat. In order to keep meat from burning, it\\'s best to slowly rotate it.\", \"userId\": 31, \"tags\": [\"american\", \"english\"], \"reactions\": 9}, {\"id\": 9, \"title\": \"There are different types of secrets.\", \"body\": \"There are different types of secrets. She had held onto plenty of them during her life, but this one was different. She found herself holding onto the worst type. It was the type of secret that could gnaw away at your insides if you didn\\'t tell someone about it, but it could end up getting you killed if you did.\", \"userId\": 42, \"tags\": [\"american\", \"history\", \"magical\"], \"reactions\": 2}, {\"id\": 10, \"title\": \"They rushed out the door.\", \"body\": \"They rushed out the door, grabbing anything and everything they could think of they might need. There was no time to double-check to make sure they weren\\'t leaving something important behind. Everything was thrown into the car and they sped off. Thirty minutes later they were safe and that was when it dawned on them that they had forgotten the most important thing of all.\", \"userId\": 1, \"tags\": [\"fiction\", \"magical\", \"history\"], \"reactions\": 4}, {\"id\": 11, \"title\": \"It wasn\\'t quite yet time to panic.\", \"body\": \"It wasn\\'t quite yet time to panic. There was still time to salvage the situation. At least that is what she was telling himself. The reality was that it was time to panic and there wasn\\'t time to salvage the situation, but he continued to delude himself into believing there was.\", \"userId\": 25, \"tags\": [\"mystery\", \"american\", \"history\"], \"reactions\": 5}, {\"id\": 12, \"title\": \"She was aware that things could go wrong.\", \"body\": \"She was aware that things could go wrong. In fact, she had trained her entire life in anticipation that things would go wrong one day. She had quiet confidence as she started to see that this was the day that all her training would be worthwhile and useful. At this point, she had no idea just how wrong everything would go that day.\", \"userId\": 26, \"tags\": [\"love\", \"english\"], \"reactions\": 7}, {\"id\": 13, \"title\": \"She wanted rainbow hair.\", \"body\": \"She wanted rainbow hair. That\\'s what she told the hairdresser. It should be deep rainbow colors, too. She wasn\\'t interested in pastel rainbow hair. She wanted it deep and vibrant so there was no doubt that she had done this on purpose.\", \"userId\": 44, \"tags\": [\"mystery\", \"classic\", \"french\"], \"reactions\": 0}, {\"id\": 14, \"title\": \"The paper was blank.\", \"body\": \"The paper was blank. It shouldn\\'t have been. There should have been writing on the paper, at least a paragraph if not more. The fact that the writing wasn\\'t there was frustrating. Actually, it was even more than frustrating. It was downright distressing.\", \"userId\": 1, \"tags\": [\"mystery\", \"english\", \"love\"], \"reactions\": 0}, {\"id\": 15, \"title\": \"The trees, therefore, must be such old\", \"body\": \"The trees, therefore, must be such old and primitive techniques that they thought nothing of them, deeming them so inconsequential that even savages like us would know of them and not be suspicious. At that, they probably didn\\'t have too much time after they detected us orbiting and intending to land. And if that were true, there could be only one place where their civilization was hidden.\", \"userId\": 15, \"tags\": [\"fiction\", \"history\", \"crime\"], \"reactions\": 1}, {\"id\": 16, \"title\": \"There was only one way to do things in the Statton house.\", \"body\": \"There was only one way to do things in the Statton house. That one way was to do exactly what the father, Charlie, demanded. He made the decisions and everyone else followed without question. That was until today.\", \"userId\": 31, \"tags\": [\"magical\", \"french\", \"american\"], \"reactions\": 5}, {\"id\": 17, \"title\": \"She was in a hurry.\", \"body\": \"She was in a hurry. Not the standard hurry when you\\'re in a rush to get someplace, but a frantic hurry. The type of hurry where a few seconds could mean life or death. She raced down the road ignoring speed limits and weaving between cars. She was only a few minutes away when traffic came to a dead standstill on the road ahead.\", \"userId\": 5, \"tags\": [\"french\", \"magical\", \"english\"], \"reactions\": 0}, {\"id\": 18, \"title\": \"She had a terrible habit o comparing her life to others\", \"body\": \"She had a terrible habit o comparing her life to others. She realized that their life experiences were completely different than her own and that she saw only what they wanted her to see, but that didn\\'t matter. She still compared herself and yearned for what she thought they had and she didn\\'t.\", \"userId\": 28, \"tags\": [\"history\", \"french\", \"love\"], \"reactions\": 3}, {\"id\": 19, \"title\": \"The rain and wind abruptly stopped.\", \"body\": \"The rain and wind abruptly stopped, but the sky still had the gray swirls of storms in the distance. Dave knew this feeling all too well. The calm before the storm. He only had a limited amount of time before all Hell broke loose, but he stopped to admire the calmness. Maybe it would be different this time, he thought, with the knowledge deep within that it wouldn\\'t.\", \"userId\": 46, \"tags\": [\"fiction\", \"crime\", \"magical\"], \"reactions\": 8}, {\"id\": 20, \"title\": \"He couldn\\'t remember exactly where he had read it\", \"body\": \"He couldn\\'t remember exactly where he had read it, but he was sure that he had. The fact that she didn\\'t believe him was quite frustrating as he began to search the Internet to find the article. It wasn\\'t as if it was something that seemed impossible. Yet she insisted on always seeing the source whenever he stated a fact.\", \"userId\": 38, \"tags\": [\"french\", \"classic\"], \"reactions\": 9}, {\"id\": 21, \"title\": \"He wandered down the stairs and into the basement\", \"body\": \"He wandered down the stairs and into the basement. The damp, musty smell of unuse hung in the air. A single, small window let in a glimmer of light, but this simply made the shadows in the basement deeper. He inhaled deeply and looked around at a mess that had been accumulating for over 25 years. He was positive that this was the place he wanted to live.\", \"userId\": 37, \"tags\": [\"french\", \"american\"], \"reactions\": 8}, {\"id\": 22, \"title\": \"She has seen this scene before.\", \"body\": \"She has seen this scene before. It had come to her in dreams many times before. She had to pinch herself to make sure it wasn\\'t a dream again. As her fingers squeezed against her arm, she felt the pain. It was this pain that immediately woke her up.\", \"userId\": 30, \"tags\": [\"classic\", \"love\", \"history\"], \"reactions\": 6}, {\"id\": 23, \"title\": \"It\\'s an unfortunate reality that we don\\'t teach people how to make money\", \"body\": \"It\\'s an unfortunate reality that we don\\'t teach people how to make money (beyond getting a 9 to 5 job) as part of our education system. The truth is there are a lot of different, legitimate ways to make money. That doesn\\'t mean they are easy and that you won\\'t have to work hard to succeed, but it does mean that if you\\'re willing to open your mind a bit you don\\'t have to be stuck in an office from 9 to 5 for the next fifty years o your life.\", \"userId\": 2, \"tags\": [\"crime\", \"english\"], \"reactions\": 4}, {\"id\": 24, \"title\": \"The robot clicked disapprovingly.\", \"body\": \"The robot clicked disapprovingly, gurgled briefly inside its cubical interior and extruded a pony glass of brownish liquid. \\\\\"Sir, you will undoubtedly end up in a drunkard\\'s grave, dead of hepatic cirrhosis,\\\\\" it informed me virtuously as it returned my ID card. I glared as I pushed the glass across the table.\", \"userId\": 34, \"tags\": [\"crime\", \"american\", \"love\"], \"reactions\": 2}, {\"id\": 25, \"title\": \"It went through such rapid contortions\", \"body\": \"It went through such rapid contortions that the little bear was forced to change his hold on it so many times he became confused in the darkness, and could not, for the life of him, tell whether he held the sheep right side up, or upside down. But that point was decided for him a moment later by the animal itself, who, with a sudden twist, jabbed its horns so hard into his lowest ribs that he gave a grunt of anger and disgust.\", \"userId\": 27, \"tags\": [\"fiction\", \"history\", \"french\"], \"reactions\": 3}, {\"id\": 26, \"title\": \"She patiently waited for his number to be called.\", \"body\": \"She patiently waited for his number to be called. She had no desire to be there, but her mom had insisted that she go. She\\'s resisted at first, but over time she realized it was simply easier to appease her and go. Mom tended to be that way. She would keep insisting until you wore down and did what she wanted. So, here she sat, patiently waiting for her number to be called.\", \"userId\": 27, \"tags\": [\"french\", \"mystery\", \"crime\"], \"reactions\": 7}, {\"id\": 27, \"title\": \"Ten more steps.\", \"body\": \"If he could take ten more steps it would be over, but his legs wouldn\\'t move. He tried to will them to work, but they wouldn\\'t listen to his brain. Ten more steps and it would be over but it didn\\'t appear he would be able to do it.\", \"userId\": 17, \"tags\": [\"mystery\", \"classic\", \"love\"], \"reactions\": 4}, {\"id\": 28, \"title\": \"He had three simple rules by which he lived.\", \"body\": \"He had three simple rules by which he lived. The first was to never eat blue food. There was nothing in nature that was edible that was blue. People often asked about blueberries, but everyone knows those are actually purple. He understood it was one of the stranger rules to live by, but it had served him well thus far in the 50+ years of his life.\", \"userId\": 22, \"tags\": [\"crime\", \"love\"], \"reactions\": 2}, {\"id\": 29, \"title\": \"The chair sat in the corner where it had been\", \"body\": \"The chair sat in the corner where it had been for over 25 years. The only difference was there was someone actually sitting in it. How long had it been since someone had done that? Ten years or more he imagined. Yet there was no denying the presence in the chair now.\", \"userId\": 38, \"tags\": [\"mystery\", \"american\"], \"reactions\": 6}, {\"id\": 30, \"title\": \"Things aren\\'t going well at all\", \"body\": \"Things aren\\'t going well at all with mom today. She is just a limp noodle and wants to sleep all the time. I sure hope that things get better soon.\", \"userId\": 2, \"tags\": [\"american\", \"love\", \"fiction\"], \"reactions\": 0}], \"total\": 150, \"skip\": 0, \"limit\": 30}'"
      ]
     },
     "execution_count": 25,
     "metadata": {},
     "output_type": "execute_result"
    }
   ],
   "source": [
    "# write posts to a string\n",
    "json.dumps(req)"
   ]
  },
  {
   "cell_type": "code",
   "execution_count": 29,
   "id": "bffaec26",
   "metadata": {},
   "outputs": [],
   "source": [
    "# write posts to a file\n",
    "file = open(\"data/posts.txt\", \"w\")\n",
    "json.dump(req, file)\n",
    "file.close()"
   ]
  },
  {
   "cell_type": "markdown",
   "id": "067f873c",
   "metadata": {},
   "source": [
    "### Example of a convenience library\n",
    "* [yfinance](https://pypi.org/project/yfinance/)\n",
    "* data is downloaded into a pandas Series or DataFrame\n",
    "* This means pandas methods are exposed"
   ]
  },
  {
   "cell_type": "code",
   "execution_count": 31,
   "id": "10c4d57e",
   "metadata": {},
   "outputs": [
    {
     "name": "stdout",
     "output_type": "stream",
     "text": [
      "Collecting yfinance\n",
      "  Obtaining dependency information for yfinance from https://files.pythonhosted.org/packages/1b/0f/77716aa9dd84bb1aa5e93c87122af1de89697b6231f6d01d58d4e7c03c14/yfinance-0.2.36-py2.py3-none-any.whl.metadata\n",
      "  Downloading yfinance-0.2.36-py2.py3-none-any.whl.metadata (11 kB)\n",
      "Requirement already satisfied: pandas>=1.3.0 in /Users/abdurrahman/anaconda3/lib/python3.11/site-packages (from yfinance) (2.0.3)\n",
      "Requirement already satisfied: numpy>=1.16.5 in /Users/abdurrahman/anaconda3/lib/python3.11/site-packages (from yfinance) (1.24.3)\n",
      "Requirement already satisfied: requests>=2.31 in /Users/abdurrahman/anaconda3/lib/python3.11/site-packages (from yfinance) (2.31.0)\n",
      "Collecting multitasking>=0.0.7 (from yfinance)\n",
      "  Downloading multitasking-0.0.11-py3-none-any.whl (8.5 kB)\n",
      "Requirement already satisfied: lxml>=4.9.1 in /Users/abdurrahman/anaconda3/lib/python3.11/site-packages (from yfinance) (4.9.3)\n",
      "Requirement already satisfied: appdirs>=1.4.4 in /Users/abdurrahman/anaconda3/lib/python3.11/site-packages (from yfinance) (1.4.4)\n",
      "Requirement already satisfied: pytz>=2022.5 in /Users/abdurrahman/anaconda3/lib/python3.11/site-packages (from yfinance) (2023.3.post1)\n",
      "Collecting frozendict>=2.3.4 (from yfinance)\n",
      "  Downloading frozendict-2.4.0.tar.gz (314 kB)\n",
      "\u001b[2K     \u001b[90m━━━━━━━━━━━━━━━━━━━━━━━━━━━━━━━━━━━━━━━\u001b[0m \u001b[32m314.6/314.6 kB\u001b[0m \u001b[31m8.8 MB/s\u001b[0m eta \u001b[36m0:00:00\u001b[0m00:01\u001b[0m\n",
      "\u001b[?25h  Installing build dependencies ... \u001b[?25ldone\n",
      "\u001b[?25h  Getting requirements to build wheel ... \u001b[?25ldone\n",
      "\u001b[?25h  Preparing metadata (pyproject.toml) ... \u001b[?25ldone\n",
      "\u001b[?25hCollecting peewee>=3.16.2 (from yfinance)\n",
      "  Downloading peewee-3.17.0.tar.gz (2.9 MB)\n",
      "\u001b[2K     \u001b[90m━━━━━━━━━━━━━━━━━━━━━━━━━━━━━━━━━━━━━━━━\u001b[0m \u001b[32m2.9/2.9 MB\u001b[0m \u001b[31m15.5 MB/s\u001b[0m eta \u001b[36m0:00:00\u001b[0ma \u001b[36m0:00:01\u001b[0m\n",
      "\u001b[?25h  Installing build dependencies ... \u001b[?25ldone\n",
      "\u001b[?25h  Getting requirements to build wheel ... \u001b[?25ldone\n",
      "\u001b[?25h  Preparing metadata (pyproject.toml) ... \u001b[?25ldone\n",
      "\u001b[?25hRequirement already satisfied: beautifulsoup4>=4.11.1 in /Users/abdurrahman/anaconda3/lib/python3.11/site-packages (from yfinance) (4.12.2)\n",
      "Collecting html5lib>=1.1 (from yfinance)\n",
      "  Downloading html5lib-1.1-py2.py3-none-any.whl (112 kB)\n",
      "\u001b[2K     \u001b[90m━━━━━━━━━━━━━━━━━━━━━━━━━━━━━━━━━━━━━━━\u001b[0m \u001b[32m112.2/112.2 kB\u001b[0m \u001b[31m9.8 MB/s\u001b[0m eta \u001b[36m0:00:00\u001b[0m\n",
      "\u001b[?25hRequirement already satisfied: soupsieve>1.2 in /Users/abdurrahman/anaconda3/lib/python3.11/site-packages (from beautifulsoup4>=4.11.1->yfinance) (2.4)\n",
      "Requirement already satisfied: six>=1.9 in /Users/abdurrahman/anaconda3/lib/python3.11/site-packages (from html5lib>=1.1->yfinance) (1.16.0)\n",
      "Requirement already satisfied: webencodings in /Users/abdurrahman/anaconda3/lib/python3.11/site-packages (from html5lib>=1.1->yfinance) (0.5.1)\n",
      "Requirement already satisfied: python-dateutil>=2.8.2 in /Users/abdurrahman/anaconda3/lib/python3.11/site-packages (from pandas>=1.3.0->yfinance) (2.8.2)\n",
      "Requirement already satisfied: tzdata>=2022.1 in /Users/abdurrahman/anaconda3/lib/python3.11/site-packages (from pandas>=1.3.0->yfinance) (2023.3)\n",
      "Requirement already satisfied: charset-normalizer<4,>=2 in /Users/abdurrahman/anaconda3/lib/python3.11/site-packages (from requests>=2.31->yfinance) (2.0.4)\n",
      "Requirement already satisfied: idna<4,>=2.5 in /Users/abdurrahman/anaconda3/lib/python3.11/site-packages (from requests>=2.31->yfinance) (3.4)\n",
      "Requirement already satisfied: urllib3<3,>=1.21.1 in /Users/abdurrahman/anaconda3/lib/python3.11/site-packages (from requests>=2.31->yfinance) (1.26.16)\n",
      "Requirement already satisfied: certifi>=2017.4.17 in /Users/abdurrahman/anaconda3/lib/python3.11/site-packages (from requests>=2.31->yfinance) (2023.11.17)\n",
      "Downloading yfinance-0.2.36-py2.py3-none-any.whl (72 kB)\n",
      "\u001b[2K   \u001b[90m━━━━━━━━━━━━━━━━━━━━━━━━━━━━━━━━━━━━━━━━\u001b[0m \u001b[32m72.4/72.4 kB\u001b[0m \u001b[31m8.2 MB/s\u001b[0m eta \u001b[36m0:00:00\u001b[0m\n",
      "\u001b[?25hBuilding wheels for collected packages: frozendict, peewee\n",
      "  Building wheel for frozendict (pyproject.toml) ... \u001b[?25ldone\n",
      "\u001b[?25h  Created wheel for frozendict: filename=frozendict-2.4.0-py3-none-any.whl size=15425 sha256=1fe981523808892bdfe0e2e8091fb28c76f458acd8f826f6eb7456d4b9f1a138\n",
      "  Stored in directory: /Users/abdurrahman/Library/Caches/pip/wheels/31/dd/81/a814e6f8cde8a1bbc1f088fdc273943371f10478b91a605e14\n",
      "  Building wheel for peewee (pyproject.toml) ... \u001b[?25ldone\n",
      "\u001b[?25h  Created wheel for peewee: filename=peewee-3.17.0-cp311-cp311-macosx_11_0_arm64.whl size=243511 sha256=8d3e4c8f38602e28895a646b9d22b8b1d84d8e7c5c05c2f8e3fd956cab3f395e\n",
      "  Stored in directory: /Users/abdurrahman/Library/Caches/pip/wheels/02/20/23/74a10d0cd31f5d41c19b92ddf4c138ceff01b9f4675f19dbf5\n",
      "Successfully built frozendict peewee\n",
      "Installing collected packages: peewee, multitasking, html5lib, frozendict, yfinance\n",
      "Successfully installed frozendict-2.4.0 html5lib-1.1 multitasking-0.0.11 peewee-3.17.0 yfinance-0.2.36\n"
     ]
    }
   ],
   "source": [
    "# you likely need to install -- uncomment line below \n",
    "!pip install yfinance"
   ]
  },
  {
   "cell_type": "code",
   "execution_count": 35,
   "id": "d9606c24",
   "metadata": {},
   "outputs": [
    {
     "name": "stderr",
     "output_type": "stream",
     "text": [
      "[*********************100%%**********************]  1 of 1 completed\n"
     ]
    }
   ],
   "source": [
    "import yfinance as yf\n",
    "aapl = yf.download(\"AAPL\", \"2023-01-31\")"
   ]
  },
  {
   "cell_type": "code",
   "execution_count": 36,
   "id": "2bbfc053",
   "metadata": {},
   "outputs": [
    {
     "data": {
      "text/html": [
       "<div>\n",
       "<style scoped>\n",
       "    .dataframe tbody tr th:only-of-type {\n",
       "        vertical-align: middle;\n",
       "    }\n",
       "\n",
       "    .dataframe tbody tr th {\n",
       "        vertical-align: top;\n",
       "    }\n",
       "\n",
       "    .dataframe thead th {\n",
       "        text-align: right;\n",
       "    }\n",
       "</style>\n",
       "<table border=\"1\" class=\"dataframe\">\n",
       "  <thead>\n",
       "    <tr style=\"text-align: right;\">\n",
       "      <th></th>\n",
       "      <th>Open</th>\n",
       "      <th>High</th>\n",
       "      <th>Low</th>\n",
       "      <th>Close</th>\n",
       "      <th>Adj Close</th>\n",
       "      <th>Volume</th>\n",
       "    </tr>\n",
       "  </thead>\n",
       "  <tbody>\n",
       "    <tr>\n",
       "      <th>count</th>\n",
       "      <td>252.000000</td>\n",
       "      <td>252.000000</td>\n",
       "      <td>252.000000</td>\n",
       "      <td>252.000000</td>\n",
       "      <td>252.000000</td>\n",
       "      <td>2.520000e+02</td>\n",
       "    </tr>\n",
       "    <tr>\n",
       "      <th>mean</th>\n",
       "      <td>176.364643</td>\n",
       "      <td>177.905814</td>\n",
       "      <td>175.083770</td>\n",
       "      <td>176.619722</td>\n",
       "      <td>176.251944</td>\n",
       "      <td>5.798782e+07</td>\n",
       "    </tr>\n",
       "    <tr>\n",
       "      <th>std</th>\n",
       "      <td>14.159222</td>\n",
       "      <td>13.931209</td>\n",
       "      <td>14.094800</td>\n",
       "      <td>13.940745</td>\n",
       "      <td>14.110597</td>\n",
       "      <td>1.722640e+07</td>\n",
       "    </tr>\n",
       "    <tr>\n",
       "      <th>min</th>\n",
       "      <td>142.699997</td>\n",
       "      <td>144.339996</td>\n",
       "      <td>141.320007</td>\n",
       "      <td>144.289993</td>\n",
       "      <td>143.487961</td>\n",
       "      <td>2.404830e+07</td>\n",
       "    </tr>\n",
       "    <tr>\n",
       "      <th>25%</th>\n",
       "      <td>168.095005</td>\n",
       "      <td>169.627506</td>\n",
       "      <td>166.540001</td>\n",
       "      <td>168.072502</td>\n",
       "      <td>167.535400</td>\n",
       "      <td>4.742450e+07</td>\n",
       "    </tr>\n",
       "    <tr>\n",
       "      <th>50%</th>\n",
       "      <td>177.610001</td>\n",
       "      <td>179.555000</td>\n",
       "      <td>176.560005</td>\n",
       "      <td>177.970001</td>\n",
       "      <td>177.635826</td>\n",
       "      <td>5.405425e+07</td>\n",
       "    </tr>\n",
       "    <tr>\n",
       "      <th>75%</th>\n",
       "      <td>189.100002</td>\n",
       "      <td>189.934998</td>\n",
       "      <td>187.509998</td>\n",
       "      <td>188.785004</td>\n",
       "      <td>188.659035</td>\n",
       "      <td>6.428920e+07</td>\n",
       "    </tr>\n",
       "    <tr>\n",
       "      <th>max</th>\n",
       "      <td>198.020004</td>\n",
       "      <td>199.619995</td>\n",
       "      <td>197.000000</td>\n",
       "      <td>198.110001</td>\n",
       "      <td>198.110001</td>\n",
       "      <td>1.543573e+08</td>\n",
       "    </tr>\n",
       "  </tbody>\n",
       "</table>\n",
       "</div>"
      ],
      "text/plain": [
       "             Open        High         Low       Close   Adj Close  \\\n",
       "count  252.000000  252.000000  252.000000  252.000000  252.000000   \n",
       "mean   176.364643  177.905814  175.083770  176.619722  176.251944   \n",
       "std     14.159222   13.931209   14.094800   13.940745   14.110597   \n",
       "min    142.699997  144.339996  141.320007  144.289993  143.487961   \n",
       "25%    168.095005  169.627506  166.540001  168.072502  167.535400   \n",
       "50%    177.610001  179.555000  176.560005  177.970001  177.635826   \n",
       "75%    189.100002  189.934998  187.509998  188.785004  188.659035   \n",
       "max    198.020004  199.619995  197.000000  198.110001  198.110001   \n",
       "\n",
       "             Volume  \n",
       "count  2.520000e+02  \n",
       "mean   5.798782e+07  \n",
       "std    1.722640e+07  \n",
       "min    2.404830e+07  \n",
       "25%    4.742450e+07  \n",
       "50%    5.405425e+07  \n",
       "75%    6.428920e+07  \n",
       "max    1.543573e+08  "
      ]
     },
     "execution_count": 36,
     "metadata": {},
     "output_type": "execute_result"
    }
   ],
   "source": [
    "aapl.describe()"
   ]
  },
  {
   "cell_type": "code",
   "execution_count": 37,
   "id": "ab215ff2",
   "metadata": {},
   "outputs": [
    {
     "name": "stderr",
     "output_type": "stream",
     "text": [
      "[*********************100%%**********************]  1 of 1 completed\n"
     ]
    }
   ],
   "source": [
    "aapl = yf.download(\"AAPL\", \"2023-01-31\")['Close']"
   ]
  },
  {
   "cell_type": "code",
   "execution_count": 38,
   "id": "b23a4674",
   "metadata": {},
   "outputs": [
    {
     "data": {
      "text/plain": [
       "<Axes: xlabel='Date'>"
      ]
     },
     "execution_count": 38,
     "metadata": {},
     "output_type": "execute_result"
    },
    {
     "data": {
      "image/png": "[encoded data removed]",
      "text/plain": [
       "<Figure size 640x480 with 1 Axes>"
      ]
     },
     "metadata": {},
     "output_type": "display_data"
    }
   ],
   "source": [
    "aapl.plot()"
   ]
  },
  {
   "cell_type": "code",
   "execution_count": null,
   "id": "76264377",
   "metadata": {},
   "outputs": [],
   "source": []
  }
 ],
 "metadata": {
  "kernelspec": {
   "display_name": "Python 3 (ipykernel)",
   "language": "python",
   "name": "python3"
  },
  "language_info": {
   "codemirror_mode": {
    "name": "ipython",
    "version": 3
   },
   "file_extension": ".py",
   "mimetype": "text/x-python",
   "name": "python",
   "nbconvert_exporter": "python",
   "pygments_lexer": "ipython3",
   "version": "3.11.5"
  }
 },
 "nbformat": 4,
 "nbformat_minor": 5
}
