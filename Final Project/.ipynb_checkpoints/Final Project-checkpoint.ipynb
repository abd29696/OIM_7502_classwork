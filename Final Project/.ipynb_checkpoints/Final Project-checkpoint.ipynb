{
 "cells": [
  {
   "cell_type": "code",
   "execution_count": 1,
   "id": "c4310a54",
   "metadata": {},
   "outputs": [],
   "source": [
    "import pandas as pd"
   ]
  },
  {
   "cell_type": "code",
   "execution_count": null,
   "id": "e929dd6e",
   "metadata": {},
   "outputs": [],
   "source": [
    "excel_file_path = 'path_to_your_excel_file.xlsx'\n",
    "\n",
    "# Load the Excel file\n",
    "xl = pd.ExcelFile(excel_file_path)\n",
    "\n",
    "# Dictionary to store DataFrames for each sheet\n",
    "dfs = {}\n",
    "\n",
    "# Iterate through each sheet name\n",
    "for sheet_name in xl.sheet_names:\n",
    "    # Read each sheet into a DataFrame\n",
    "    dfs[sheet_name] = xl.parse(sheet_name)\n",
    "\n",
    "# Now, dfs is a dictionary where each key is a sheet name and the value is the DataFrame for that sheet\n",
    "# For example, to access the DataFrame for a sheet named 'Sheet1', you can do:\n",
    "# df_sheet1 = dfs['Sheet1']\n",
    "\n",
    "# If you want to print the DataFrame of each sheet to verify, you can do:\n",
    "for sheet_name, df in dfs.items():\n",
    "    print(f\"DataFrame for {sheet_name}:\")\n",
    "    print(df)\n"
   ]
  }
 ],
 "metadata": {
  "kernelspec": {
   "display_name": "Python 3 (ipykernel)",
   "language": "python",
   "name": "python3"
  },
  "language_info": {
   "codemirror_mode": {
    "name": "ipython",
    "version": 3
   },
   "file_extension": ".py",
   "mimetype": "text/x-python",
   "name": "python",
   "nbconvert_exporter": "python",
   "pygments_lexer": "ipython3",
   "version": "3.11.5"
  }
 },
 "nbformat": 4,
 "nbformat_minor": 5
}
